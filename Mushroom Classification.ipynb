{
 "cells": [
  {
   "cell_type": "markdown",
   "metadata": {},
   "source": [
    "# Mushroom Classification\n",
    "## Vicky Ke & Cerina Liu & Jianyin Zhu\n",
    "## 05/14/2021"
   ]
  },
  {
   "cell_type": "code",
   "execution_count": 1,
   "metadata": {},
   "outputs": [],
   "source": [
    "%matplotlib inline\n",
    "import numpy as np\n",
    "import pandas as pd\n",
    "import random\n",
    "import seaborn as sns\n",
    "import matplotlib.pyplot as plt\n",
    "\n",
    "from time import perf_counter\n",
    "from dmba import classificationSummary\n",
    "\n",
    "from sklearn import tree\n",
    "from sklearn import metrics\n",
    "from sklearn import model_selection\n",
    "from sklearn.svm import SVC\n",
    "from sklearn.tree import DecisionTreeClassifier\n",
    "from sklearn.metrics import accuracy_score, confusion_matrix, recall_score, precision_score\n",
    "from sklearn.ensemble import RandomForestClassifier, GradientBoostingClassifier\n",
    "from sklearn.neighbors import KNeighborsClassifier\n",
    "from sklearn.naive_bayes import GaussianNB\n",
    "from sklearn.linear_model import LogisticRegression\n",
    "from sklearn.preprocessing import StandardScaler\n",
    "from sklearn.decomposition import PCA\n",
    "from sklearn.model_selection import train_test_split, cross_val_predict, cross_val_score, KFold\n",
    "\n",
    "\n",
    "import warnings \n",
    "warnings.filterwarnings('ignore')"
   ]
  },
  {
   "cell_type": "markdown",
   "metadata": {},
   "source": [
    "## 1. Describe Dataset"
   ]
  },
  {
   "cell_type": "markdown",
   "metadata": {},
   "source": [
    "This dataset includes descriptions of hypothetical samples corresponding to 23 species of gilled mushrooms in the Agaricus and Lepiota Family Mushroom drawn from The Audubon Society Field Guide to North American Mushrooms (1981). We choose this dataset because it has non-numerical values in each row and column, which is a new challenge for us and would be a good way to practice. \n",
    "\n",
    "\n"
   ]
  },
  {
   "cell_type": "code",
   "execution_count": 2,
   "metadata": {},
   "outputs": [
    {
     "data": {
      "text/html": [
       "<div>\n",
       "<style scoped>\n",
       "    .dataframe tbody tr th:only-of-type {\n",
       "        vertical-align: middle;\n",
       "    }\n",
       "\n",
       "    .dataframe tbody tr th {\n",
       "        vertical-align: top;\n",
       "    }\n",
       "\n",
       "    .dataframe thead th {\n",
       "        text-align: right;\n",
       "    }\n",
       "</style>\n",
       "<table border=\"1\" class=\"dataframe\">\n",
       "  <thead>\n",
       "    <tr style=\"text-align: right;\">\n",
       "      <th></th>\n",
       "      <th>class</th>\n",
       "      <th>cap-shape</th>\n",
       "      <th>cap-surface</th>\n",
       "      <th>cap-color</th>\n",
       "      <th>bruises</th>\n",
       "      <th>odor</th>\n",
       "      <th>gill-attachment</th>\n",
       "      <th>gill-spacing</th>\n",
       "      <th>gill-size</th>\n",
       "      <th>gill-color</th>\n",
       "      <th>...</th>\n",
       "      <th>stalk-surface-below-ring</th>\n",
       "      <th>stalk-color-above-ring</th>\n",
       "      <th>stalk-color-below-ring</th>\n",
       "      <th>veil-type</th>\n",
       "      <th>veil-color</th>\n",
       "      <th>ring-number</th>\n",
       "      <th>ring-type</th>\n",
       "      <th>spore-print-color</th>\n",
       "      <th>population</th>\n",
       "      <th>habitat</th>\n",
       "    </tr>\n",
       "  </thead>\n",
       "  <tbody>\n",
       "    <tr>\n",
       "      <th>0</th>\n",
       "      <td>p</td>\n",
       "      <td>x</td>\n",
       "      <td>s</td>\n",
       "      <td>n</td>\n",
       "      <td>t</td>\n",
       "      <td>p</td>\n",
       "      <td>f</td>\n",
       "      <td>c</td>\n",
       "      <td>n</td>\n",
       "      <td>k</td>\n",
       "      <td>...</td>\n",
       "      <td>s</td>\n",
       "      <td>w</td>\n",
       "      <td>w</td>\n",
       "      <td>p</td>\n",
       "      <td>w</td>\n",
       "      <td>o</td>\n",
       "      <td>p</td>\n",
       "      <td>k</td>\n",
       "      <td>s</td>\n",
       "      <td>u</td>\n",
       "    </tr>\n",
       "    <tr>\n",
       "      <th>1</th>\n",
       "      <td>e</td>\n",
       "      <td>x</td>\n",
       "      <td>s</td>\n",
       "      <td>y</td>\n",
       "      <td>t</td>\n",
       "      <td>a</td>\n",
       "      <td>f</td>\n",
       "      <td>c</td>\n",
       "      <td>b</td>\n",
       "      <td>k</td>\n",
       "      <td>...</td>\n",
       "      <td>s</td>\n",
       "      <td>w</td>\n",
       "      <td>w</td>\n",
       "      <td>p</td>\n",
       "      <td>w</td>\n",
       "      <td>o</td>\n",
       "      <td>p</td>\n",
       "      <td>n</td>\n",
       "      <td>n</td>\n",
       "      <td>g</td>\n",
       "    </tr>\n",
       "    <tr>\n",
       "      <th>2</th>\n",
       "      <td>e</td>\n",
       "      <td>b</td>\n",
       "      <td>s</td>\n",
       "      <td>w</td>\n",
       "      <td>t</td>\n",
       "      <td>l</td>\n",
       "      <td>f</td>\n",
       "      <td>c</td>\n",
       "      <td>b</td>\n",
       "      <td>n</td>\n",
       "      <td>...</td>\n",
       "      <td>s</td>\n",
       "      <td>w</td>\n",
       "      <td>w</td>\n",
       "      <td>p</td>\n",
       "      <td>w</td>\n",
       "      <td>o</td>\n",
       "      <td>p</td>\n",
       "      <td>n</td>\n",
       "      <td>n</td>\n",
       "      <td>m</td>\n",
       "    </tr>\n",
       "    <tr>\n",
       "      <th>3</th>\n",
       "      <td>p</td>\n",
       "      <td>x</td>\n",
       "      <td>y</td>\n",
       "      <td>w</td>\n",
       "      <td>t</td>\n",
       "      <td>p</td>\n",
       "      <td>f</td>\n",
       "      <td>c</td>\n",
       "      <td>n</td>\n",
       "      <td>n</td>\n",
       "      <td>...</td>\n",
       "      <td>s</td>\n",
       "      <td>w</td>\n",
       "      <td>w</td>\n",
       "      <td>p</td>\n",
       "      <td>w</td>\n",
       "      <td>o</td>\n",
       "      <td>p</td>\n",
       "      <td>k</td>\n",
       "      <td>s</td>\n",
       "      <td>u</td>\n",
       "    </tr>\n",
       "    <tr>\n",
       "      <th>4</th>\n",
       "      <td>e</td>\n",
       "      <td>x</td>\n",
       "      <td>s</td>\n",
       "      <td>g</td>\n",
       "      <td>f</td>\n",
       "      <td>n</td>\n",
       "      <td>f</td>\n",
       "      <td>w</td>\n",
       "      <td>b</td>\n",
       "      <td>k</td>\n",
       "      <td>...</td>\n",
       "      <td>s</td>\n",
       "      <td>w</td>\n",
       "      <td>w</td>\n",
       "      <td>p</td>\n",
       "      <td>w</td>\n",
       "      <td>o</td>\n",
       "      <td>e</td>\n",
       "      <td>n</td>\n",
       "      <td>a</td>\n",
       "      <td>g</td>\n",
       "    </tr>\n",
       "  </tbody>\n",
       "</table>\n",
       "<p>5 rows × 23 columns</p>\n",
       "</div>"
      ],
      "text/plain": [
       "  class cap-shape cap-surface cap-color bruises odor gill-attachment  \\\n",
       "0     p         x           s         n       t    p               f   \n",
       "1     e         x           s         y       t    a               f   \n",
       "2     e         b           s         w       t    l               f   \n",
       "3     p         x           y         w       t    p               f   \n",
       "4     e         x           s         g       f    n               f   \n",
       "\n",
       "  gill-spacing gill-size gill-color  ... stalk-surface-below-ring  \\\n",
       "0            c         n          k  ...                        s   \n",
       "1            c         b          k  ...                        s   \n",
       "2            c         b          n  ...                        s   \n",
       "3            c         n          n  ...                        s   \n",
       "4            w         b          k  ...                        s   \n",
       "\n",
       "  stalk-color-above-ring stalk-color-below-ring veil-type veil-color  \\\n",
       "0                      w                      w         p          w   \n",
       "1                      w                      w         p          w   \n",
       "2                      w                      w         p          w   \n",
       "3                      w                      w         p          w   \n",
       "4                      w                      w         p          w   \n",
       "\n",
       "  ring-number ring-type spore-print-color population habitat  \n",
       "0           o         p                 k          s       u  \n",
       "1           o         p                 n          n       g  \n",
       "2           o         p                 n          n       m  \n",
       "3           o         p                 k          s       u  \n",
       "4           o         e                 n          a       g  \n",
       "\n",
       "[5 rows x 23 columns]"
      ]
     },
     "execution_count": 2,
     "metadata": {},
     "output_type": "execute_result"
    }
   ],
   "source": [
    "# data from Kaggle: https://www.kaggle.com/uciml/mushroom-classification\n",
    "ms = pd.read_csv(\"mushrooms.csv\")\n",
    "ms.head()"
   ]
  },
  {
   "cell_type": "markdown",
   "metadata": {},
   "source": [
    "### 1.1 Data Feature "
   ]
  },
  {
   "cell_type": "markdown",
   "metadata": {},
   "source": [
    "As we did in all other datasets, we first figure out all the categories and features that help decide the class of mushrooms. Then we check the types of all our values in order to prevent errors in the following data processing part. In addition, we checked the null values in our whole dataset, in order to finish the basic part of data cleaning."
   ]
  },
  {
   "cell_type": "code",
   "execution_count": 3,
   "metadata": {},
   "outputs": [
    {
     "data": {
      "text/plain": [
       "['class',\n",
       " 'cap-shape',\n",
       " 'cap-surface',\n",
       " 'cap-color',\n",
       " 'bruises',\n",
       " 'odor',\n",
       " 'gill-attachment',\n",
       " 'gill-spacing',\n",
       " 'gill-size',\n",
       " 'gill-color',\n",
       " 'stalk-shape',\n",
       " 'stalk-root',\n",
       " 'stalk-surface-above-ring',\n",
       " 'stalk-surface-below-ring',\n",
       " 'stalk-color-above-ring',\n",
       " 'stalk-color-below-ring',\n",
       " 'veil-type',\n",
       " 'veil-color',\n",
       " 'ring-number',\n",
       " 'ring-type',\n",
       " 'spore-print-color',\n",
       " 'population',\n",
       " 'habitat']"
      ]
     },
     "execution_count": 3,
     "metadata": {},
     "output_type": "execute_result"
    }
   ],
   "source": [
    "ms.columns.tolist()"
   ]
  },
  {
   "cell_type": "code",
   "execution_count": 4,
   "metadata": {},
   "outputs": [
    {
     "name": "stdout",
     "output_type": "stream",
     "text": [
      "<class 'pandas.core.frame.DataFrame'>\n",
      "RangeIndex: 8124 entries, 0 to 8123\n",
      "Data columns (total 23 columns):\n",
      " #   Column                    Non-Null Count  Dtype \n",
      "---  ------                    --------------  ----- \n",
      " 0   class                     8124 non-null   object\n",
      " 1   cap-shape                 8124 non-null   object\n",
      " 2   cap-surface               8124 non-null   object\n",
      " 3   cap-color                 8124 non-null   object\n",
      " 4   bruises                   8124 non-null   object\n",
      " 5   odor                      8124 non-null   object\n",
      " 6   gill-attachment           8124 non-null   object\n",
      " 7   gill-spacing              8124 non-null   object\n",
      " 8   gill-size                 8124 non-null   object\n",
      " 9   gill-color                8124 non-null   object\n",
      " 10  stalk-shape               8124 non-null   object\n",
      " 11  stalk-root                8124 non-null   object\n",
      " 12  stalk-surface-above-ring  8124 non-null   object\n",
      " 13  stalk-surface-below-ring  8124 non-null   object\n",
      " 14  stalk-color-above-ring    8124 non-null   object\n",
      " 15  stalk-color-below-ring    8124 non-null   object\n",
      " 16  veil-type                 8124 non-null   object\n",
      " 17  veil-color                8124 non-null   object\n",
      " 18  ring-number               8124 non-null   object\n",
      " 19  ring-type                 8124 non-null   object\n",
      " 20  spore-print-color         8124 non-null   object\n",
      " 21  population                8124 non-null   object\n",
      " 22  habitat                   8124 non-null   object\n",
      "dtypes: object(23)\n",
      "memory usage: 1.4+ MB\n"
     ]
    }
   ],
   "source": [
    "ms.info()"
   ]
  },
  {
   "cell_type": "markdown",
   "metadata": {},
   "source": [
    "### 1.2 Check Null Values"
   ]
  },
  {
   "cell_type": "code",
   "execution_count": 5,
   "metadata": {},
   "outputs": [
    {
     "data": {
      "text/plain": [
       "class                       0\n",
       "cap-shape                   0\n",
       "cap-surface                 0\n",
       "cap-color                   0\n",
       "bruises                     0\n",
       "odor                        0\n",
       "gill-attachment             0\n",
       "gill-spacing                0\n",
       "gill-size                   0\n",
       "gill-color                  0\n",
       "stalk-shape                 0\n",
       "stalk-root                  0\n",
       "stalk-surface-above-ring    0\n",
       "stalk-surface-below-ring    0\n",
       "stalk-color-above-ring      0\n",
       "stalk-color-below-ring      0\n",
       "veil-type                   0\n",
       "veil-color                  0\n",
       "ring-number                 0\n",
       "ring-type                   0\n",
       "spore-print-color           0\n",
       "population                  0\n",
       "habitat                     0\n",
       "dtype: int64"
      ]
     },
     "execution_count": 5,
     "metadata": {},
     "output_type": "execute_result"
    }
   ],
   "source": [
    "#check errors\n",
    "ms.isnull().sum()"
   ]
  },
  {
   "cell_type": "markdown",
   "metadata": {},
   "source": [
    "### 1.3 Data Exploration"
   ]
  },
  {
   "cell_type": "code",
   "execution_count": 6,
   "metadata": {},
   "outputs": [
    {
     "data": {
      "text/plain": [
       "(8124, 23)"
      ]
     },
     "execution_count": 6,
     "metadata": {},
     "output_type": "execute_result"
    }
   ],
   "source": [
    "ms.shape"
   ]
  },
  {
   "cell_type": "code",
   "execution_count": 7,
   "metadata": {},
   "outputs": [
    {
     "data": {
      "text/html": [
       "<div>\n",
       "<style scoped>\n",
       "    .dataframe tbody tr th:only-of-type {\n",
       "        vertical-align: middle;\n",
       "    }\n",
       "\n",
       "    .dataframe tbody tr th {\n",
       "        vertical-align: top;\n",
       "    }\n",
       "\n",
       "    .dataframe thead th {\n",
       "        text-align: right;\n",
       "    }\n",
       "</style>\n",
       "<table border=\"1\" class=\"dataframe\">\n",
       "  <thead>\n",
       "    <tr style=\"text-align: right;\">\n",
       "      <th></th>\n",
       "      <th>class</th>\n",
       "      <th>cap-shape</th>\n",
       "      <th>cap-surface</th>\n",
       "      <th>cap-color</th>\n",
       "      <th>bruises</th>\n",
       "      <th>odor</th>\n",
       "      <th>gill-attachment</th>\n",
       "      <th>gill-spacing</th>\n",
       "      <th>gill-size</th>\n",
       "      <th>gill-color</th>\n",
       "      <th>...</th>\n",
       "      <th>stalk-surface-above-ring</th>\n",
       "      <th>stalk-surface-below-ring</th>\n",
       "      <th>stalk-color-above-ring</th>\n",
       "      <th>stalk-color-below-ring</th>\n",
       "      <th>veil-type</th>\n",
       "      <th>veil-color</th>\n",
       "      <th>ring-number</th>\n",
       "      <th>ring-type</th>\n",
       "      <th>spore-print-color</th>\n",
       "      <th>population</th>\n",
       "    </tr>\n",
       "  </thead>\n",
       "  <tbody>\n",
       "    <tr>\n",
       "      <th>count</th>\n",
       "      <td>8124</td>\n",
       "      <td>8124</td>\n",
       "      <td>8124</td>\n",
       "      <td>8124</td>\n",
       "      <td>8124</td>\n",
       "      <td>8124</td>\n",
       "      <td>8124</td>\n",
       "      <td>8124</td>\n",
       "      <td>8124</td>\n",
       "      <td>8124</td>\n",
       "      <td>...</td>\n",
       "      <td>8124</td>\n",
       "      <td>8124</td>\n",
       "      <td>8124</td>\n",
       "      <td>8124</td>\n",
       "      <td>8124</td>\n",
       "      <td>8124</td>\n",
       "      <td>8124</td>\n",
       "      <td>8124</td>\n",
       "      <td>8124</td>\n",
       "      <td>8124</td>\n",
       "    </tr>\n",
       "    <tr>\n",
       "      <th>unique</th>\n",
       "      <td>2</td>\n",
       "      <td>6</td>\n",
       "      <td>4</td>\n",
       "      <td>10</td>\n",
       "      <td>2</td>\n",
       "      <td>9</td>\n",
       "      <td>2</td>\n",
       "      <td>2</td>\n",
       "      <td>2</td>\n",
       "      <td>12</td>\n",
       "      <td>...</td>\n",
       "      <td>4</td>\n",
       "      <td>4</td>\n",
       "      <td>9</td>\n",
       "      <td>9</td>\n",
       "      <td>1</td>\n",
       "      <td>4</td>\n",
       "      <td>3</td>\n",
       "      <td>5</td>\n",
       "      <td>9</td>\n",
       "      <td>6</td>\n",
       "    </tr>\n",
       "    <tr>\n",
       "      <th>top</th>\n",
       "      <td>e</td>\n",
       "      <td>x</td>\n",
       "      <td>y</td>\n",
       "      <td>n</td>\n",
       "      <td>f</td>\n",
       "      <td>n</td>\n",
       "      <td>f</td>\n",
       "      <td>c</td>\n",
       "      <td>b</td>\n",
       "      <td>b</td>\n",
       "      <td>...</td>\n",
       "      <td>s</td>\n",
       "      <td>s</td>\n",
       "      <td>w</td>\n",
       "      <td>w</td>\n",
       "      <td>p</td>\n",
       "      <td>w</td>\n",
       "      <td>o</td>\n",
       "      <td>p</td>\n",
       "      <td>w</td>\n",
       "      <td>v</td>\n",
       "    </tr>\n",
       "    <tr>\n",
       "      <th>freq</th>\n",
       "      <td>4208</td>\n",
       "      <td>3656</td>\n",
       "      <td>3244</td>\n",
       "      <td>2284</td>\n",
       "      <td>4748</td>\n",
       "      <td>3528</td>\n",
       "      <td>7914</td>\n",
       "      <td>6812</td>\n",
       "      <td>5612</td>\n",
       "      <td>1728</td>\n",
       "      <td>...</td>\n",
       "      <td>5176</td>\n",
       "      <td>4936</td>\n",
       "      <td>4464</td>\n",
       "      <td>4384</td>\n",
       "      <td>8124</td>\n",
       "      <td>7924</td>\n",
       "      <td>7488</td>\n",
       "      <td>3968</td>\n",
       "      <td>2388</td>\n",
       "      <td>4040</td>\n",
       "    </tr>\n",
       "  </tbody>\n",
       "</table>\n",
       "<p>4 rows × 22 columns</p>\n",
       "</div>"
      ],
      "text/plain": [
       "       class cap-shape cap-surface cap-color bruises  odor gill-attachment  \\\n",
       "count   8124      8124        8124      8124    8124  8124            8124   \n",
       "unique     2         6           4        10       2     9               2   \n",
       "top        e         x           y         n       f     n               f   \n",
       "freq    4208      3656        3244      2284    4748  3528            7914   \n",
       "\n",
       "       gill-spacing gill-size gill-color  ... stalk-surface-above-ring  \\\n",
       "count          8124      8124       8124  ...                     8124   \n",
       "unique            2         2         12  ...                        4   \n",
       "top               c         b          b  ...                        s   \n",
       "freq           6812      5612       1728  ...                     5176   \n",
       "\n",
       "       stalk-surface-below-ring stalk-color-above-ring stalk-color-below-ring  \\\n",
       "count                      8124                   8124                   8124   \n",
       "unique                        4                      9                      9   \n",
       "top                           s                      w                      w   \n",
       "freq                       4936                   4464                   4384   \n",
       "\n",
       "       veil-type veil-color ring-number ring-type spore-print-color population  \n",
       "count       8124       8124        8124      8124              8124       8124  \n",
       "unique         1          4           3         5                 9          6  \n",
       "top            p          w           o         p                 w          v  \n",
       "freq        8124       7924        7488      3968              2388       4040  \n",
       "\n",
       "[4 rows x 22 columns]"
      ]
     },
     "execution_count": 7,
     "metadata": {},
     "output_type": "execute_result"
    }
   ],
   "source": [
    "t1=ms.iloc[:,0:-1].describe()\n",
    "t1\n",
    "#t2=t1[t1['std']>1]"
   ]
  },
  {
   "cell_type": "code",
   "execution_count": 8,
   "metadata": {},
   "outputs": [],
   "source": [
    "#sns.heatmap(ms.corr())"
   ]
  },
  {
   "cell_type": "markdown",
   "metadata": {},
   "source": [
    "## 2. Visualization"
   ]
  },
  {
   "cell_type": "markdown",
   "metadata": {},
   "source": [
    "In this section, we breifly check the correlation among each feature we have in our datasets. We find that the features are relatively standard and it is not continuous, so we did not show the distribution and it is not necessary to normalize it. According to the color distribution, it is hard to tell the useful information from this graph, which asks us to reflect the discrete variables again. Therefore, we stop visualized the original data, we want to build models and find more from the accuracy or other scores directly."
   ]
  },
  {
   "cell_type": "code",
   "execution_count": 9,
   "metadata": {},
   "outputs": [
    {
     "data": {
      "image/png": "[encoded data removed]",
      "text/plain": [
       "<Figure size 720x576 with 2 Axes>"
      ]
     },
     "metadata": {
      "needs_background": "light"
     },
     "output_type": "display_data"
    }
   ],
   "source": [
    "from sklearn.preprocessing import LabelEncoder\n",
    "vis = ms.copy()\n",
    "le = LabelEncoder()\n",
    "for col in vis.columns:\n",
    "  vis[col] = le.fit_transform(vis[col]) \n",
    "plt.figure(figsize=(10,8))\n",
    "ax = sns.heatmap(vis.corr(),cmap=\"coolwarm\")"
   ]
  },
  {
   "cell_type": "markdown",
   "metadata": {},
   "source": [
    "## 3. Train Test Split"
   ]
  },
  {
   "cell_type": "markdown",
   "metadata": {},
   "source": [
    "In this section, we numeric the values in order to help us process easily. We did the simple train and test split and check the value we set before moving on."
   ]
  },
  {
   "cell_type": "code",
   "execution_count": 10,
   "metadata": {},
   "outputs": [],
   "source": [
    "X = ms.iloc[:,1:23]\n",
    "y = ms.iloc[:,[0]]"
   ]
  },
  {
   "cell_type": "code",
   "execution_count": 11,
   "metadata": {},
   "outputs": [
    {
     "data": {
      "text/html": [
       "<div>\n",
       "<style scoped>\n",
       "    .dataframe tbody tr th:only-of-type {\n",
       "        vertical-align: middle;\n",
       "    }\n",
       "\n",
       "    .dataframe tbody tr th {\n",
       "        vertical-align: top;\n",
       "    }\n",
       "\n",
       "    .dataframe thead th {\n",
       "        text-align: right;\n",
       "    }\n",
       "</style>\n",
       "<table border=\"1\" class=\"dataframe\">\n",
       "  <thead>\n",
       "    <tr style=\"text-align: right;\">\n",
       "      <th></th>\n",
       "      <th>cap-shape</th>\n",
       "      <th>cap-surface</th>\n",
       "      <th>cap-color</th>\n",
       "      <th>bruises</th>\n",
       "      <th>odor</th>\n",
       "      <th>gill-attachment</th>\n",
       "      <th>gill-spacing</th>\n",
       "      <th>gill-size</th>\n",
       "      <th>gill-color</th>\n",
       "      <th>stalk-shape</th>\n",
       "      <th>...</th>\n",
       "      <th>stalk-surface-below-ring</th>\n",
       "      <th>stalk-color-above-ring</th>\n",
       "      <th>stalk-color-below-ring</th>\n",
       "      <th>veil-type</th>\n",
       "      <th>veil-color</th>\n",
       "      <th>ring-number</th>\n",
       "      <th>ring-type</th>\n",
       "      <th>spore-print-color</th>\n",
       "      <th>population</th>\n",
       "      <th>habitat</th>\n",
       "    </tr>\n",
       "  </thead>\n",
       "  <tbody>\n",
       "    <tr>\n",
       "      <th>0</th>\n",
       "      <td>5</td>\n",
       "      <td>2</td>\n",
       "      <td>4</td>\n",
       "      <td>1</td>\n",
       "      <td>6</td>\n",
       "      <td>1</td>\n",
       "      <td>0</td>\n",
       "      <td>1</td>\n",
       "      <td>4</td>\n",
       "      <td>0</td>\n",
       "      <td>...</td>\n",
       "      <td>2</td>\n",
       "      <td>7</td>\n",
       "      <td>7</td>\n",
       "      <td>0</td>\n",
       "      <td>2</td>\n",
       "      <td>1</td>\n",
       "      <td>4</td>\n",
       "      <td>2</td>\n",
       "      <td>3</td>\n",
       "      <td>5</td>\n",
       "    </tr>\n",
       "    <tr>\n",
       "      <th>1</th>\n",
       "      <td>5</td>\n",
       "      <td>2</td>\n",
       "      <td>9</td>\n",
       "      <td>1</td>\n",
       "      <td>0</td>\n",
       "      <td>1</td>\n",
       "      <td>0</td>\n",
       "      <td>0</td>\n",
       "      <td>4</td>\n",
       "      <td>0</td>\n",
       "      <td>...</td>\n",
       "      <td>2</td>\n",
       "      <td>7</td>\n",
       "      <td>7</td>\n",
       "      <td>0</td>\n",
       "      <td>2</td>\n",
       "      <td>1</td>\n",
       "      <td>4</td>\n",
       "      <td>3</td>\n",
       "      <td>2</td>\n",
       "      <td>1</td>\n",
       "    </tr>\n",
       "    <tr>\n",
       "      <th>2</th>\n",
       "      <td>0</td>\n",
       "      <td>2</td>\n",
       "      <td>8</td>\n",
       "      <td>1</td>\n",
       "      <td>3</td>\n",
       "      <td>1</td>\n",
       "      <td>0</td>\n",
       "      <td>0</td>\n",
       "      <td>5</td>\n",
       "      <td>0</td>\n",
       "      <td>...</td>\n",
       "      <td>2</td>\n",
       "      <td>7</td>\n",
       "      <td>7</td>\n",
       "      <td>0</td>\n",
       "      <td>2</td>\n",
       "      <td>1</td>\n",
       "      <td>4</td>\n",
       "      <td>3</td>\n",
       "      <td>2</td>\n",
       "      <td>3</td>\n",
       "    </tr>\n",
       "    <tr>\n",
       "      <th>3</th>\n",
       "      <td>5</td>\n",
       "      <td>3</td>\n",
       "      <td>8</td>\n",
       "      <td>1</td>\n",
       "      <td>6</td>\n",
       "      <td>1</td>\n",
       "      <td>0</td>\n",
       "      <td>1</td>\n",
       "      <td>5</td>\n",
       "      <td>0</td>\n",
       "      <td>...</td>\n",
       "      <td>2</td>\n",
       "      <td>7</td>\n",
       "      <td>7</td>\n",
       "      <td>0</td>\n",
       "      <td>2</td>\n",
       "      <td>1</td>\n",
       "      <td>4</td>\n",
       "      <td>2</td>\n",
       "      <td>3</td>\n",
       "      <td>5</td>\n",
       "    </tr>\n",
       "    <tr>\n",
       "      <th>4</th>\n",
       "      <td>5</td>\n",
       "      <td>2</td>\n",
       "      <td>3</td>\n",
       "      <td>0</td>\n",
       "      <td>5</td>\n",
       "      <td>1</td>\n",
       "      <td>1</td>\n",
       "      <td>0</td>\n",
       "      <td>4</td>\n",
       "      <td>1</td>\n",
       "      <td>...</td>\n",
       "      <td>2</td>\n",
       "      <td>7</td>\n",
       "      <td>7</td>\n",
       "      <td>0</td>\n",
       "      <td>2</td>\n",
       "      <td>1</td>\n",
       "      <td>0</td>\n",
       "      <td>3</td>\n",
       "      <td>0</td>\n",
       "      <td>1</td>\n",
       "    </tr>\n",
       "  </tbody>\n",
       "</table>\n",
       "<p>5 rows × 22 columns</p>\n",
       "</div>"
      ],
      "text/plain": [
       "   cap-shape  cap-surface  cap-color  bruises  odor  gill-attachment  \\\n",
       "0          5            2          4        1     6                1   \n",
       "1          5            2          9        1     0                1   \n",
       "2          0            2          8        1     3                1   \n",
       "3          5            3          8        1     6                1   \n",
       "4          5            2          3        0     5                1   \n",
       "\n",
       "   gill-spacing  gill-size  gill-color  stalk-shape  ...  \\\n",
       "0             0          1           4            0  ...   \n",
       "1             0          0           4            0  ...   \n",
       "2             0          0           5            0  ...   \n",
       "3             0          1           5            0  ...   \n",
       "4             1          0           4            1  ...   \n",
       "\n",
       "   stalk-surface-below-ring  stalk-color-above-ring  stalk-color-below-ring  \\\n",
       "0                         2                       7                       7   \n",
       "1                         2                       7                       7   \n",
       "2                         2                       7                       7   \n",
       "3                         2                       7                       7   \n",
       "4                         2                       7                       7   \n",
       "\n",
       "   veil-type  veil-color  ring-number  ring-type  spore-print-color  \\\n",
       "0          0           2            1          4                  2   \n",
       "1          0           2            1          4                  3   \n",
       "2          0           2            1          4                  3   \n",
       "3          0           2            1          4                  2   \n",
       "4          0           2            1          0                  3   \n",
       "\n",
       "   population  habitat  \n",
       "0           3        5  \n",
       "1           2        1  \n",
       "2           2        3  \n",
       "3           3        5  \n",
       "4           0        1  \n",
       "\n",
       "[5 rows x 22 columns]"
      ]
     },
     "execution_count": 11,
     "metadata": {},
     "output_type": "execute_result"
    }
   ],
   "source": [
    "from sklearn.preprocessing import LabelEncoder\n",
    "le = LabelEncoder() \n",
    "for col in X.columns:\n",
    "    X[col] = le.fit_transform(X[col])\n",
    "Encoder_y=LabelEncoder()\n",
    "y = Encoder_y.fit_transform(y)\n",
    "X.head()"
   ]
  },
  {
   "cell_type": "code",
   "execution_count": 12,
   "metadata": {},
   "outputs": [
    {
     "data": {
      "text/plain": [
       "array([1, 0, 0, ..., 0, 1, 0])"
      ]
     },
     "execution_count": 12,
     "metadata": {},
     "output_type": "execute_result"
    }
   ],
   "source": [
    "y"
   ]
  },
  {
   "cell_type": "code",
   "execution_count": 13,
   "metadata": {},
   "outputs": [
    {
     "name": "stdout",
     "output_type": "stream",
     "text": [
      "(8124, 22)\n",
      "(8124,)\n"
     ]
    }
   ],
   "source": [
    "print(X.shape)\n",
    "print(y.shape)"
   ]
  },
  {
   "cell_type": "code",
   "execution_count": 14,
   "metadata": {},
   "outputs": [],
   "source": [
    "X_train, X_test, y_train, y_test = train_test_split(X, y, test_size=0.2, random_state=40)"
   ]
  },
  {
   "cell_type": "markdown",
   "metadata": {},
   "source": [
    "## 3.1 Standard Scaling"
   ]
  },
  {
   "cell_type": "code",
   "execution_count": 15,
   "metadata": {},
   "outputs": [],
   "source": [
    "sc = StandardScaler()\n",
    "X_train = sc.fit_transform(X_train)\n",
    "X_test = sc.transform(X_test)"
   ]
  },
  {
   "cell_type": "markdown",
   "metadata": {},
   "source": [
    "## 3.2  K-fold Cross Validation for 7 Models"
   ]
  },
  {
   "cell_type": "markdown",
   "metadata": {},
   "source": [
    "We use for-loop to present the accuracy of K-fold cross-validation for 7 models and we surprisedly find that the models like Decision Tree, Random Forest, KNN, Support Vector Classifier have 100% accuracy. And other models like gradient Boostin works very well too. We want to deeply find that if our accuracy is true, so we create test scores, confusion matrix accuracy, recall score, precision score in the next section to see how models perform."
   ]
  },
  {
   "cell_type": "code",
   "execution_count": 16,
   "metadata": {},
   "outputs": [
    {
     "name": "stdout",
     "output_type": "stream",
     "text": [
      "\u001b[96mLogistic Regression\u001b[0m: \u001b[95m0.9555\u001b[0m ± 0.0070\n",
      "\u001b[96mDecision Tree\u001b[0m: \u001b[95m1.0000\u001b[0m ± 0.0000\n",
      "\u001b[96mRandom Forest\u001b[0m: \u001b[95m1.0000\u001b[0m ± 0.0000\n",
      "\u001b[96mGradient Boostin\u001b[0m: \u001b[95m1.0000\u001b[0m ± 0.0000\n",
      "\u001b[96mKNeighbors\u001b[0m: \u001b[95m1.0000\u001b[0m ± 0.0000\n",
      "\u001b[96mSVM\u001b[0m: \u001b[95m1.0000\u001b[0m ± 0.0000\n",
      "\u001b[96mNaive Bayes\u001b[0m: \u001b[95m0.9206\u001b[0m ± 0.0090\n"
     ]
    }
   ],
   "source": [
    "models=[(\"Logistic Regression\", LogisticRegression()),\n",
    "        (\"Decision Tree\", DecisionTreeClassifier()),\n",
    "        (\"Random Forest\", RandomForestClassifier()),\n",
    "        (\"Gradient Boostin\", GradientBoostingClassifier()),\n",
    "        (\"KNeighbors\", KNeighborsClassifier()),\n",
    "        (\"SVM\", SVC()),\n",
    "        (\"Naive Bayes\", GaussianNB())]\n",
    "\n",
    "for name, model in models:\n",
    "    kfold = KFold(n_splits=10)\n",
    "    results = cross_val_score(model, X_train, y_train, cv=kfold, scoring='accuracy')\n",
    "    print(f\"\\x1b[96m{name}\\x1b[0m: \\x1b[95m{results.mean():.4f}\\x1b[0m ± {results.std():.4f}\")"
   ]
  },
  {
   "cell_type": "markdown",
   "metadata": {},
   "source": [
    "## 4. Original 7 Models with its Test Score, Confusion Matrix Accuracy, Recall, Precision, and  Running Time"
   ]
  },
  {
   "cell_type": "markdown",
   "metadata": {},
   "source": [
    "In this section, we not only get test scores, confusion matrix accuracy, recall score, precision score for our 7 models, but also add the time to evalute each models' efficiency. Our model contains: Logistic Regression, GaussianNB, KNN Classifier, Decision Tree Classifier,Random Forest Classifier, Gradient Boosting Classifier, Support Vector Classifier. According to the results of each model, we also visulize thier confusion martrix to let our readers easily understand the results. All the models work pretty well and their test scores are all over 90%. In addition, Decision Tree, Random Forest, KNN, Support Vector Classifier maintains their good performance. For instance, their recall and precision scores are very high, and statistics errors are pretty low.\n"
   ]
  },
  {
   "cell_type": "code",
   "execution_count": 17,
   "metadata": {},
   "outputs": [],
   "source": [
    "def get_model_data(X_test,y_test,model,model_name):\n",
    "\n",
    "    startTime = perf_counter()\n",
    "    a = model.score(X_test,y_test)\n",
    "    print(\"Test Score:\",a)\n",
    "\n",
    "    endTime = perf_counter()\n",
    "    print()\n",
    "    \n",
    "    y_pred = cross_val_predict(model,X_test,y_test,cv=10)\n",
    "    classificationSummary(y_test, y_pred)\n",
    "    print()\n",
    "    \n",
    "    #y_pred_model = model.predict(X_test)\n",
    "        \n",
    "    rs = recall_score(y_test, y_pred,average=None)\n",
    "    print(\"recall Score(y = 0):\",rs[0])\n",
    "    print(\"recall Score(y = 1):\",rs[1])\n",
    "    ps = precision_score(y_test, y_pred,average=None)\n",
    "    print(\"precision Score(y = 0):\",ps[0])\n",
    "    print(\"precision Score(y = 1):\",ps[1])\n",
    "    \n",
    "\n",
    "    b = round(np.mean(y_test-y_pred),4)\n",
    "    c = round(np.sqrt(metrics.mean_squared_error(y_test, y_pred)),4)\n",
    "    d = round(metrics.mean_absolute_error(y_test, y_pred),4)\n",
    "\n",
    "    print()\n",
    "    print('Statistics')\n",
    "    print('                     Mean Error (ME)  :',b)\n",
    "    print('       Root Mean Squared Error (RMSE) :',c)\n",
    "    print('            Mean Absolute Error (MAE) :',d)\n",
    "\n",
    "    print()\n",
    "    time = endTime-startTime\n",
    "    print(\"Total time:\",time)\n",
    "    print()\n",
    "    v = [model_name,round(a,3),round(rs[0],3),\n",
    "        round(rs[1],3),round(ps[0],3),round(ps[1],3),b,c,d,round(time,3)]\n",
    "    return v"
   ]
  },
  {
   "cell_type": "code",
   "execution_count": 18,
   "metadata": {},
   "outputs": [],
   "source": [
    " #all the models we used\n",
    "lr = LogisticRegression(solver=\"liblinear\").fit(X_train,y_train)\n",
    "gnb = GaussianNB().fit(X_train,y_train)\n",
    "knn = KNeighborsClassifier().fit(X_train,y_train)\n",
    "tree = DecisionTreeClassifier(random_state=42).fit(X_train,y_train)\n",
    "rfc = RandomForestClassifier(n_estimators=100, random_state=42,verbose=False).fit(X_train,y_train)\n",
    "gbmc = GradientBoostingClassifier(n_estimators=100, verbose=False).fit(X_train,y_train)\n",
    "svm=SVC(random_state=42).fit(X_train,y_train)\n",
    "models1 = [lr,gnb,knn,tree,rfc,gbmc,svm]\n",
    "\n",
    "model_name = [\"Logistic Regression\",\"GaussianNB\",\"KNeighbors Classifier\",\n",
    "             \"Decision Tree Classifier\",\"Random Forest Classifier\",\n",
    "             \"Gradient Boosting Classifier\",\"Support Vector Classifier\"]"
   ]
  },
  {
   "cell_type": "code",
   "execution_count": 19,
   "metadata": {},
   "outputs": [],
   "source": [
    "table_vector = []"
   ]
  },
  {
   "cell_type": "code",
   "execution_count": 20,
   "metadata": {},
   "outputs": [
    {
     "name": "stdout",
     "output_type": "stream",
     "text": [
      "-------------------------------\n",
      "Logistic Regression\n",
      "-------------------------------\n",
      "Test Score: 0.963076923076923\n",
      "\n",
      "Confusion Matrix (Accuracy 0.9502)\n",
      "\n",
      "       Prediction\n",
      "Actual   0   1\n",
      "     0 811  31\n",
      "     1  50 733\n",
      "\n",
      "recall Score(y = 0): 0.9631828978622328\n",
      "recall Score(y = 1): 0.9361430395913155\n",
      "precision Score(y = 0): 0.9419279907084785\n",
      "precision Score(y = 1): 0.9594240837696335\n",
      "\n",
      "Statistics\n",
      "                     Mean Error (ME)  : 0.0117\n",
      "       Root Mean Squared Error (RMSE) : 0.2233\n",
      "            Mean Absolute Error (MAE) : 0.0498\n",
      "\n",
      "Total time: 0.0017869539999999517\n",
      "\n"
     ]
    },
    {
     "data": {
      "image/png": "[encoded data removed]",
      "text/plain": [
       "<Figure size 360x288 with 2 Axes>"
      ]
     },
     "metadata": {
      "needs_background": "light"
     },
     "output_type": "display_data"
    },
    {
     "name": "stdout",
     "output_type": "stream",
     "text": [
      "-------------------------------\n",
      "GaussianNB\n",
      "-------------------------------\n",
      "Test Score: 0.9163076923076923\n",
      "\n",
      "Confusion Matrix (Accuracy 0.6622)\n",
      "\n",
      "       Prediction\n",
      "Actual   0   1\n",
      "     0 333 509\n",
      "     1  40 743\n",
      "\n",
      "recall Score(y = 0): 0.39548693586698336\n",
      "recall Score(y = 1): 0.9489144316730523\n",
      "precision Score(y = 0): 0.8927613941018767\n",
      "precision Score(y = 1): 0.5934504792332268\n",
      "\n",
      "Statistics\n",
      "                     Mean Error (ME)  : -0.2886\n",
      "       Root Mean Squared Error (RMSE) : 0.5812\n",
      "            Mean Absolute Error (MAE) : 0.3378\n",
      "\n",
      "Total time: 0.005213224999998545\n",
      "\n"
     ]
    },
    {
     "data": {
      "image/png": "[encoded data removed]",
      "text/plain": [
       "<Figure size 360x288 with 2 Axes>"
      ]
     },
     "metadata": {
      "needs_background": "light"
     },
     "output_type": "display_data"
    },
    {
     "name": "stdout",
     "output_type": "stream",
     "text": [
      "-------------------------------\n",
      "KNeighbors Classifier\n",
      "-------------------------------\n",
      "Test Score: 1.0\n",
      "\n",
      "Confusion Matrix (Accuracy 0.9963)\n",
      "\n",
      "       Prediction\n",
      "Actual   0   1\n",
      "     0 840   2\n",
      "     1   4 779\n",
      "\n",
      "recall Score(y = 0): 0.997624703087886\n",
      "recall Score(y = 1): 0.9948914431673053\n",
      "precision Score(y = 0): 0.995260663507109\n",
      "precision Score(y = 1): 0.9974391805377721\n",
      "\n",
      "Statistics\n",
      "                     Mean Error (ME)  : 0.0012\n",
      "       Root Mean Squared Error (RMSE) : 0.0608\n",
      "            Mean Absolute Error (MAE) : 0.0037\n",
      "\n",
      "Total time: 0.25539181000000255\n",
      "\n"
     ]
    },
    {
     "data": {
      "image/png": "[encoded data removed]",
      "text/plain": [
       "<Figure size 360x288 with 2 Axes>"
      ]
     },
     "metadata": {
      "needs_background": "light"
     },
     "output_type": "display_data"
    },
    {
     "name": "stdout",
     "output_type": "stream",
     "text": [
      "-------------------------------\n",
      "Decision Tree Classifier\n",
      "-------------------------------\n",
      "Test Score: 1.0\n",
      "\n",
      "Confusion Matrix (Accuracy 1.0000)\n",
      "\n",
      "       Prediction\n",
      "Actual   0   1\n",
      "     0 842   0\n",
      "     1   0 783\n",
      "\n",
      "recall Score(y = 0): 1.0\n",
      "recall Score(y = 1): 1.0\n",
      "precision Score(y = 0): 1.0\n",
      "precision Score(y = 1): 1.0\n",
      "\n",
      "Statistics\n",
      "                     Mean Error (ME)  : 0.0\n",
      "       Root Mean Squared Error (RMSE) : 0.0\n",
      "            Mean Absolute Error (MAE) : 0.0\n",
      "\n",
      "Total time: 0.0024985710000002825\n",
      "\n"
     ]
    },
    {
     "data": {
      "image/png": "[encoded data removed]",
      "text/plain": [
       "<Figure size 360x288 with 2 Axes>"
      ]
     },
     "metadata": {
      "needs_background": "light"
     },
     "output_type": "display_data"
    },
    {
     "name": "stdout",
     "output_type": "stream",
     "text": [
      "-------------------------------\n",
      "Random Forest Classifier\n",
      "-------------------------------\n",
      "Test Score: 1.0\n",
      "\n",
      "Confusion Matrix (Accuracy 0.9988)\n",
      "\n",
      "       Prediction\n",
      "Actual   0   1\n",
      "     0 842   0\n",
      "     1   2 781\n",
      "\n",
      "recall Score(y = 0): 1.0\n",
      "recall Score(y = 1): 0.9974457215836526\n",
      "precision Score(y = 0): 0.9976303317535545\n",
      "precision Score(y = 1): 1.0\n",
      "\n",
      "Statistics\n",
      "                     Mean Error (ME)  : 0.0012\n",
      "       Root Mean Squared Error (RMSE) : 0.0351\n",
      "            Mean Absolute Error (MAE) : 0.0012\n",
      "\n",
      "Total time: 0.04560668999999962\n",
      "\n"
     ]
    },
    {
     "data": {
      "image/png": "[encoded data removed]",
      "text/plain": [
       "<Figure size 360x288 with 2 Axes>"
      ]
     },
     "metadata": {
      "needs_background": "light"
     },
     "output_type": "display_data"
    },
    {
     "name": "stdout",
     "output_type": "stream",
     "text": [
      "-------------------------------\n",
      "Gradient Boosting Classifier\n",
      "-------------------------------\n",
      "Test Score: 1.0\n",
      "\n",
      "Confusion Matrix (Accuracy 0.9988)\n",
      "\n",
      "       Prediction\n",
      "Actual   0   1\n",
      "     0 842   0\n",
      "     1   2 781\n",
      "\n",
      "recall Score(y = 0): 1.0\n",
      "recall Score(y = 1): 0.9974457215836526\n",
      "precision Score(y = 0): 0.9976303317535545\n",
      "precision Score(y = 1): 1.0\n",
      "\n",
      "Statistics\n",
      "                     Mean Error (ME)  : 0.0012\n",
      "       Root Mean Squared Error (RMSE) : 0.0351\n",
      "            Mean Absolute Error (MAE) : 0.0012\n",
      "\n",
      "Total time: 0.04047046299999835\n",
      "\n"
     ]
    },
    {
     "data": {
      "image/png": "[encoded data removed]",
      "text/plain": [
       "<Figure size 360x288 with 2 Axes>"
      ]
     },
     "metadata": {
      "needs_background": "light"
     },
     "output_type": "display_data"
    },
    {
     "name": "stdout",
     "output_type": "stream",
     "text": [
      "-------------------------------\n",
      "Support Vector Classifier\n",
      "-------------------------------\n",
      "Test Score: 1.0\n",
      "\n",
      "Confusion Matrix (Accuracy 0.9969)\n",
      "\n",
      "       Prediction\n",
      "Actual   0   1\n",
      "     0 840   2\n",
      "     1   3 780\n",
      "\n",
      "recall Score(y = 0): 0.997624703087886\n",
      "recall Score(y = 1): 0.9961685823754789\n",
      "precision Score(y = 0): 0.99644128113879\n",
      "precision Score(y = 1): 0.9974424552429667\n",
      "\n",
      "Statistics\n",
      "                     Mean Error (ME)  : 0.0006\n",
      "       Root Mean Squared Error (RMSE) : 0.0555\n",
      "            Mean Absolute Error (MAE) : 0.0031\n",
      "\n",
      "Total time: 0.02019912200000107\n",
      "\n"
     ]
    },
    {
     "data": {
      "image/png": "[encoded data removed]",
      "text/plain": [
       "<Figure size 360x288 with 2 Axes>"
      ]
     },
     "metadata": {
      "needs_background": "light"
     },
     "output_type": "display_data"
    }
   ],
   "source": [
    "\n",
    "i=0\n",
    "\n",
    "for model in models1:\n",
    "    print(\"-------------------------------\")\n",
    "    print(model_name[i])\n",
    "    print(\"-------------------------------\")\n",
    "    v = get_model_data(X_test,y_test,model,model_name[i])\n",
    "    table_vector.append(v)\n",
    "    y_pred_model = model.predict(X_test)\n",
    "    cm = confusion_matrix(y_test, y_pred_model)\n",
    "    f, ax = plt.subplots(figsize =(5,4))\n",
    "    sns.heatmap(cm,annot = True,cmap=\"Pastel2\",linewidths=0.5,fmt = \".0f\",ax=ax)\n",
    "    plt.xlabel(\"y_pred_model\")\n",
    "    plt.ylabel(\"y_true_model\")\n",
    "    plt.title(model_name[i])\n",
    "    plt.show()\n",
    "    i=i+1"
   ]
  },
  {
   "cell_type": "code",
   "execution_count": 21,
   "metadata": {
    "scrolled": true
   },
   "outputs": [
    {
     "data": {
      "text/html": [
       "<div>\n",
       "<style scoped>\n",
       "    .dataframe tbody tr th:only-of-type {\n",
       "        vertical-align: middle;\n",
       "    }\n",
       "\n",
       "    .dataframe tbody tr th {\n",
       "        vertical-align: top;\n",
       "    }\n",
       "\n",
       "    .dataframe thead th {\n",
       "        text-align: right;\n",
       "    }\n",
       "</style>\n",
       "<table border=\"1\" class=\"dataframe\">\n",
       "  <thead>\n",
       "    <tr style=\"text-align: right;\">\n",
       "      <th></th>\n",
       "      <th>Model</th>\n",
       "      <th>Test Score</th>\n",
       "      <th>Recall(0)</th>\n",
       "      <th>Recall(1)</th>\n",
       "      <th>Precision(0)</th>\n",
       "      <th>Precision(1)</th>\n",
       "      <th>MAE</th>\n",
       "      <th>RMSE</th>\n",
       "      <th>Time</th>\n",
       "    </tr>\n",
       "  </thead>\n",
       "  <tbody>\n",
       "    <tr>\n",
       "      <th>0</th>\n",
       "      <td>Logistic Regression</td>\n",
       "      <td>0.963</td>\n",
       "      <td>0.963</td>\n",
       "      <td>0.936</td>\n",
       "      <td>0.942</td>\n",
       "      <td>0.959</td>\n",
       "      <td>0.0498</td>\n",
       "      <td>0.2233</td>\n",
       "      <td>0.002</td>\n",
       "    </tr>\n",
       "    <tr>\n",
       "      <th>1</th>\n",
       "      <td>GaussianNB</td>\n",
       "      <td>0.916</td>\n",
       "      <td>0.395</td>\n",
       "      <td>0.949</td>\n",
       "      <td>0.893</td>\n",
       "      <td>0.593</td>\n",
       "      <td>0.3378</td>\n",
       "      <td>0.5812</td>\n",
       "      <td>0.005</td>\n",
       "    </tr>\n",
       "    <tr>\n",
       "      <th>2</th>\n",
       "      <td>KNeighbors Classifier</td>\n",
       "      <td>1.000</td>\n",
       "      <td>0.998</td>\n",
       "      <td>0.995</td>\n",
       "      <td>0.995</td>\n",
       "      <td>0.997</td>\n",
       "      <td>0.0037</td>\n",
       "      <td>0.0608</td>\n",
       "      <td>0.255</td>\n",
       "    </tr>\n",
       "    <tr>\n",
       "      <th>3</th>\n",
       "      <td>Decision Tree Classifier</td>\n",
       "      <td>1.000</td>\n",
       "      <td>1.000</td>\n",
       "      <td>1.000</td>\n",
       "      <td>1.000</td>\n",
       "      <td>1.000</td>\n",
       "      <td>0.0000</td>\n",
       "      <td>0.0000</td>\n",
       "      <td>0.002</td>\n",
       "    </tr>\n",
       "    <tr>\n",
       "      <th>4</th>\n",
       "      <td>Random Forest Classifier</td>\n",
       "      <td>1.000</td>\n",
       "      <td>1.000</td>\n",
       "      <td>0.997</td>\n",
       "      <td>0.998</td>\n",
       "      <td>1.000</td>\n",
       "      <td>0.0012</td>\n",
       "      <td>0.0351</td>\n",
       "      <td>0.046</td>\n",
       "    </tr>\n",
       "    <tr>\n",
       "      <th>5</th>\n",
       "      <td>Gradient Boosting Classifier</td>\n",
       "      <td>1.000</td>\n",
       "      <td>1.000</td>\n",
       "      <td>0.997</td>\n",
       "      <td>0.998</td>\n",
       "      <td>1.000</td>\n",
       "      <td>0.0012</td>\n",
       "      <td>0.0351</td>\n",
       "      <td>0.040</td>\n",
       "    </tr>\n",
       "    <tr>\n",
       "      <th>6</th>\n",
       "      <td>Support Vector Classifier</td>\n",
       "      <td>1.000</td>\n",
       "      <td>0.998</td>\n",
       "      <td>0.996</td>\n",
       "      <td>0.996</td>\n",
       "      <td>0.997</td>\n",
       "      <td>0.0031</td>\n",
       "      <td>0.0555</td>\n",
       "      <td>0.020</td>\n",
       "    </tr>\n",
       "  </tbody>\n",
       "</table>\n",
       "</div>"
      ],
      "text/plain": [
       "                          Model  Test Score  Recall(0)  Recall(1)  \\\n",
       "0           Logistic Regression       0.963      0.963      0.936   \n",
       "1                    GaussianNB       0.916      0.395      0.949   \n",
       "2         KNeighbors Classifier       1.000      0.998      0.995   \n",
       "3      Decision Tree Classifier       1.000      1.000      1.000   \n",
       "4      Random Forest Classifier       1.000      1.000      0.997   \n",
       "5  Gradient Boosting Classifier       1.000      1.000      0.997   \n",
       "6     Support Vector Classifier       1.000      0.998      0.996   \n",
       "\n",
       "   Precision(0)  Precision(1)     MAE    RMSE   Time  \n",
       "0         0.942         0.959  0.0498  0.2233  0.002  \n",
       "1         0.893         0.593  0.3378  0.5812  0.005  \n",
       "2         0.995         0.997  0.0037  0.0608  0.255  \n",
       "3         1.000         1.000  0.0000  0.0000  0.002  \n",
       "4         0.998         1.000  0.0012  0.0351  0.046  \n",
       "5         0.998         1.000  0.0012  0.0351  0.040  \n",
       "6         0.996         0.997  0.0031  0.0555  0.020  "
      ]
     },
     "execution_count": 21,
     "metadata": {},
     "output_type": "execute_result"
    }
   ],
   "source": [
    "results = pd.DataFrame(data=table_vector,columns=['Model','Test Score','Recall(0)',\n",
    "              'Recall(1)','Precision(0)','Precision(1)','ME','RMSE','MAE','Time'])\n",
    "\n",
    "results[['Model','Test Score',\n",
    "         'Recall(0)','Recall(1)',\n",
    "         'Precision(0)','Precision(1)',\n",
    "         'MAE','RMSE','Time']]\n"
   ]
  },
  {
   "cell_type": "markdown",
   "metadata": {},
   "source": [
    "## 5. Feature Importances"
   ]
  },
  {
   "cell_type": "markdown",
   "metadata": {},
   "source": [
    "After successfully get the scores and accuracy for each model, we pick the best 3 models to present the feature importance."
   ]
  },
  {
   "cell_type": "markdown",
   "metadata": {},
   "source": [
    "### 5.1 Decision Tree and its Feature Importance Graph"
   ]
  },
  {
   "cell_type": "code",
   "execution_count": 22,
   "metadata": {
    "scrolled": true
   },
   "outputs": [
    {
     "data": {
      "text/plain": [
       "Text(0.5, 0, 'Decision Tree Feature Importance')"
      ]
     },
     "execution_count": 22,
     "metadata": {},
     "output_type": "execute_result"
    },
    {
     "data": {
      "image/png": "[encoded data removed]",
      "text/plain": [
       "<Figure size 432x288 with 1 Axes>"
      ]
     },
     "metadata": {
      "needs_background": "light"
     },
     "output_type": "display_data"
    }
   ],
   "source": [
    "tree.feature_importances_\n",
    "sorted_idx = tree.feature_importances_.argsort()\n",
    "plt.barh(X.columns.tolist(), tree.feature_importances_[sorted_idx])\n",
    "plt.xlabel(\"Decision Tree Feature Importance\")"
   ]
  },
  {
   "cell_type": "markdown",
   "metadata": {},
   "source": [
    "### 5.2 Random Forest and its Feature Importance Graph"
   ]
  },
  {
   "cell_type": "code",
   "execution_count": 23,
   "metadata": {},
   "outputs": [
    {
     "data": {
      "text/plain": [
       "Text(0.5, 0, 'Random Forest Feature Importance')"
      ]
     },
     "execution_count": 23,
     "metadata": {},
     "output_type": "execute_result"
    },
    {
     "data": {
      "image/png": "[encoded data removed]",
      "text/plain": [
       "<Figure size 432x288 with 1 Axes>"
      ]
     },
     "metadata": {
      "needs_background": "light"
     },
     "output_type": "display_data"
    }
   ],
   "source": [
    "rfc.feature_importances_\n",
    "sorted_idx = rfc.feature_importances_.argsort()\n",
    "plt.barh(X.columns.tolist(), rfc.feature_importances_[sorted_idx])\n",
    "plt.xlabel(\"Random Forest Feature Importance\")"
   ]
  },
  {
   "cell_type": "markdown",
   "metadata": {},
   "source": [
    "### 5.3 Gradient Boosting and its Feature Importance Graph"
   ]
  },
  {
   "cell_type": "code",
   "execution_count": 24,
   "metadata": {},
   "outputs": [
    {
     "data": {
      "text/plain": [
       "Text(0.5, 0, 'Gradient Boosting Feature Importance')"
      ]
     },
     "execution_count": 24,
     "metadata": {},
     "output_type": "execute_result"
    },
    {
     "data": {
      "image/png": "[encoded data removed]",
      "text/plain": [
       "<Figure size 432x288 with 1 Axes>"
      ]
     },
     "metadata": {
      "needs_background": "light"
     },
     "output_type": "display_data"
    }
   ],
   "source": [
    "gbmc.feature_importances_\n",
    "sorted_idx = gbmc.feature_importances_.argsort()\n",
    "plt.barh(X.columns.tolist(), gbmc.feature_importances_[sorted_idx])\n",
    "plt.xlabel(\"Gradient Boosting Feature Importance\")"
   ]
  },
  {
   "cell_type": "markdown",
   "metadata": {},
   "source": [
    "## 6. PCA Applications in 7 Models"
   ]
  },
  {
   "cell_type": "markdown",
   "metadata": {},
   "source": [
    "We did the same thing for our 7 models after PCA. Feature scaling through standardization (or Z-score normalization) can be an important preprocessing step for many machine learning algorithms. Standardization involves rescaling the features such that they have the properties of a standard normal distribution with a mean of zero and a standard deviation of one. After we sandardadize our data, we succefully reduce dimension from 22 to 8. \n"
   ]
  },
  {
   "cell_type": "code",
   "execution_count": 25,
   "metadata": {},
   "outputs": [
    {
     "data": {
      "text/html": [
       "<div>\n",
       "<style scoped>\n",
       "    .dataframe tbody tr th:only-of-type {\n",
       "        vertical-align: middle;\n",
       "    }\n",
       "\n",
       "    .dataframe tbody tr th {\n",
       "        vertical-align: top;\n",
       "    }\n",
       "\n",
       "    .dataframe thead th {\n",
       "        text-align: right;\n",
       "    }\n",
       "</style>\n",
       "<table border=\"1\" class=\"dataframe\">\n",
       "  <thead>\n",
       "    <tr style=\"text-align: right;\">\n",
       "      <th></th>\n",
       "      <th>pca1</th>\n",
       "      <th>pca2</th>\n",
       "      <th>pca3</th>\n",
       "      <th>pca4</th>\n",
       "      <th>pca5</th>\n",
       "      <th>pca6</th>\n",
       "      <th>pca7</th>\n",
       "      <th>pca8</th>\n",
       "      <th>pca9</th>\n",
       "      <th>pca10</th>\n",
       "      <th>...</th>\n",
       "      <th>pca13</th>\n",
       "      <th>pca14</th>\n",
       "      <th>pca15</th>\n",
       "      <th>pca16</th>\n",
       "      <th>pca17</th>\n",
       "      <th>pca18</th>\n",
       "      <th>pca19</th>\n",
       "      <th>pca20</th>\n",
       "      <th>pca21</th>\n",
       "      <th>pca22</th>\n",
       "    </tr>\n",
       "  </thead>\n",
       "  <tbody>\n",
       "    <tr>\n",
       "      <th>Standard deviation</th>\n",
       "      <td>1.9683</td>\n",
       "      <td>1.6135</td>\n",
       "      <td>1.5494</td>\n",
       "      <td>1.4720</td>\n",
       "      <td>1.3050</td>\n",
       "      <td>1.1811</td>\n",
       "      <td>0.9893</td>\n",
       "      <td>0.9757</td>\n",
       "      <td>0.8775</td>\n",
       "      <td>0.8437</td>\n",
       "      <td>...</td>\n",
       "      <td>0.7139</td>\n",
       "      <td>0.6908</td>\n",
       "      <td>0.6201</td>\n",
       "      <td>0.5579</td>\n",
       "      <td>0.4676</td>\n",
       "      <td>0.3994</td>\n",
       "      <td>0.3627</td>\n",
       "      <td>0.2706</td>\n",
       "      <td>0.2482</td>\n",
       "      <td>0.0</td>\n",
       "    </tr>\n",
       "    <tr>\n",
       "      <th>Proportion of variance</th>\n",
       "      <td>0.1845</td>\n",
       "      <td>0.1240</td>\n",
       "      <td>0.1143</td>\n",
       "      <td>0.1032</td>\n",
       "      <td>0.0811</td>\n",
       "      <td>0.0664</td>\n",
       "      <td>0.0466</td>\n",
       "      <td>0.0453</td>\n",
       "      <td>0.0367</td>\n",
       "      <td>0.0339</td>\n",
       "      <td>...</td>\n",
       "      <td>0.0243</td>\n",
       "      <td>0.0227</td>\n",
       "      <td>0.0183</td>\n",
       "      <td>0.0148</td>\n",
       "      <td>0.0104</td>\n",
       "      <td>0.0076</td>\n",
       "      <td>0.0063</td>\n",
       "      <td>0.0035</td>\n",
       "      <td>0.0029</td>\n",
       "      <td>0.0</td>\n",
       "    </tr>\n",
       "    <tr>\n",
       "      <th>Cumulative proportion</th>\n",
       "      <td>0.1845</td>\n",
       "      <td>0.3084</td>\n",
       "      <td>0.4227</td>\n",
       "      <td>0.5259</td>\n",
       "      <td>0.6070</td>\n",
       "      <td>0.6734</td>\n",
       "      <td>0.7200</td>\n",
       "      <td>0.7653</td>\n",
       "      <td>0.8020</td>\n",
       "      <td>0.8359</td>\n",
       "      <td>...</td>\n",
       "      <td>0.9135</td>\n",
       "      <td>0.9362</td>\n",
       "      <td>0.9545</td>\n",
       "      <td>0.9693</td>\n",
       "      <td>0.9797</td>\n",
       "      <td>0.9873</td>\n",
       "      <td>0.9936</td>\n",
       "      <td>0.9971</td>\n",
       "      <td>1.0000</td>\n",
       "      <td>1.0</td>\n",
       "    </tr>\n",
       "  </tbody>\n",
       "</table>\n",
       "<p>3 rows × 22 columns</p>\n",
       "</div>"
      ],
      "text/plain": [
       "                          pca1    pca2    pca3    pca4    pca5    pca6  \\\n",
       "Standard deviation      1.9683  1.6135  1.5494  1.4720  1.3050  1.1811   \n",
       "Proportion of variance  0.1845  0.1240  0.1143  0.1032  0.0811  0.0664   \n",
       "Cumulative proportion   0.1845  0.3084  0.4227  0.5259  0.6070  0.6734   \n",
       "\n",
       "                          pca7    pca8    pca9   pca10  ...   pca13   pca14  \\\n",
       "Standard deviation      0.9893  0.9757  0.8775  0.8437  ...  0.7139  0.6908   \n",
       "Proportion of variance  0.0466  0.0453  0.0367  0.0339  ...  0.0243  0.0227   \n",
       "Cumulative proportion   0.7200  0.7653  0.8020  0.8359  ...  0.9135  0.9362   \n",
       "\n",
       "                         pca15   pca16   pca17   pca18   pca19   pca20  \\\n",
       "Standard deviation      0.6201  0.5579  0.4676  0.3994  0.3627  0.2706   \n",
       "Proportion of variance  0.0183  0.0148  0.0104  0.0076  0.0063  0.0035   \n",
       "Cumulative proportion   0.9545  0.9693  0.9797  0.9873  0.9936  0.9971   \n",
       "\n",
       "                         pca21  pca22  \n",
       "Standard deviation      0.2482    0.0  \n",
       "Proportion of variance  0.0029    0.0  \n",
       "Cumulative proportion   1.0000    1.0  \n",
       "\n",
       "[3 rows x 22 columns]"
      ]
     },
     "execution_count": 25,
     "metadata": {},
     "output_type": "execute_result"
    }
   ],
   "source": [
    "#train test split after pca\n",
    "X = StandardScaler().fit_transform(X)\n",
    "pca1 = PCA()\n",
    "pca1.fit_transform(X)\n",
    "\n",
    "num_components1 = len(pca1.explained_variance_ratio_)\n",
    "ind = np.arange(num_components1)\n",
    "vals = pca1.explained_variance_ratio_\n",
    "cumvals = np.cumsum(vals)\n",
    "\n",
    "pcaSummary = pd.DataFrame({'Standard deviation': np.sqrt(pca1.explained_variance_),\n",
    "                           'Proportion of variance': pca1.explained_variance_ratio_,\n",
    "                           'Cumulative proportion': np.cumsum(pca1.explained_variance_ratio_)})\n",
    "\n",
    "pcaSummary = pcaSummary.transpose()\n",
    "pcaSummary.columns = ['pca{}'.format(i) for i in range(1, len(pcaSummary.columns) + 1)]\n",
    "pcaSummary.round(4)"
   ]
  },
  {
   "cell_type": "code",
   "execution_count": 26,
   "metadata": {},
   "outputs": [
    {
     "name": "stdout",
     "output_type": "stream",
     "text": [
      "8\n"
     ]
    },
    {
     "data": {
      "text/plain": [
       "array([0.18445868, 0.30841458, 0.42272138, 0.52588712, 0.60697389,\n",
       "       0.67339218, 0.71999614, 0.76532088])"
      ]
     },
     "execution_count": 26,
     "metadata": {},
     "output_type": "execute_result"
    }
   ],
   "source": [
    "#reduce deminsion to X only\n",
    "num_components2 = len(cumvals[cumvals <= 0.80])\n",
    "print(num_components2)\n",
    "\n",
    "# return PCA with components that explain 80% of the variance\n",
    "pca2 = PCA(n_components = num_components2, whiten=True)\n",
    "principalcomponents = pca2.fit_transform(X)\n",
    "np.cumsum(pca2.explained_variance_ratio_)"
   ]
  },
  {
   "cell_type": "code",
   "execution_count": 27,
   "metadata": {},
   "outputs": [],
   "source": [
    "pcaDF = pd.DataFrame(data = principalcomponents[:, 0:8], columns = pcaSummary.columns.tolist()[0:8])"
   ]
  },
  {
   "cell_type": "code",
   "execution_count": 28,
   "metadata": {},
   "outputs": [],
   "source": [
    "y = pd.DataFrame(y)"
   ]
  },
  {
   "cell_type": "code",
   "execution_count": 29,
   "metadata": {},
   "outputs": [],
   "source": [
    "#new dataset using PCA\n",
    "mushroomPCA = pd.concat([pcaDF, y], axis = 1)\n",
    "mushroomPCA.index += 1"
   ]
  },
  {
   "cell_type": "code",
   "execution_count": 30,
   "metadata": {},
   "outputs": [
    {
     "data": {
      "text/html": [
       "<div>\n",
       "<style scoped>\n",
       "    .dataframe tbody tr th:only-of-type {\n",
       "        vertical-align: middle;\n",
       "    }\n",
       "\n",
       "    .dataframe tbody tr th {\n",
       "        vertical-align: top;\n",
       "    }\n",
       "\n",
       "    .dataframe thead th {\n",
       "        text-align: right;\n",
       "    }\n",
       "</style>\n",
       "<table border=\"1\" class=\"dataframe\">\n",
       "  <thead>\n",
       "    <tr style=\"text-align: right;\">\n",
       "      <th></th>\n",
       "      <th>pca1</th>\n",
       "      <th>pca2</th>\n",
       "      <th>pca3</th>\n",
       "      <th>pca4</th>\n",
       "      <th>pca5</th>\n",
       "      <th>pca6</th>\n",
       "      <th>pca7</th>\n",
       "      <th>pca8</th>\n",
       "      <th>0</th>\n",
       "    </tr>\n",
       "  </thead>\n",
       "  <tbody>\n",
       "    <tr>\n",
       "      <th>1</th>\n",
       "      <td>-0.291789</td>\n",
       "      <td>-0.604759</td>\n",
       "      <td>-0.788522</td>\n",
       "      <td>0.126024</td>\n",
       "      <td>-1.112580</td>\n",
       "      <td>-1.302411</td>\n",
       "      <td>1.219301</td>\n",
       "      <td>1.583870</td>\n",
       "      <td>1</td>\n",
       "    </tr>\n",
       "    <tr>\n",
       "      <th>2</th>\n",
       "      <td>-1.159443</td>\n",
       "      <td>0.172955</td>\n",
       "      <td>-0.774798</td>\n",
       "      <td>0.184822</td>\n",
       "      <td>-1.150610</td>\n",
       "      <td>-1.258988</td>\n",
       "      <td>1.094253</td>\n",
       "      <td>-0.349049</td>\n",
       "      <td>0</td>\n",
       "    </tr>\n",
       "    <tr>\n",
       "      <th>3</th>\n",
       "      <td>-0.943991</td>\n",
       "      <td>-0.167940</td>\n",
       "      <td>-0.885725</td>\n",
       "      <td>0.717373</td>\n",
       "      <td>-1.387207</td>\n",
       "      <td>-0.740162</td>\n",
       "      <td>-1.787184</td>\n",
       "      <td>-0.293537</td>\n",
       "      <td>0</td>\n",
       "    </tr>\n",
       "    <tr>\n",
       "      <th>4</th>\n",
       "      <td>-0.449520</td>\n",
       "      <td>-0.468835</td>\n",
       "      <td>-0.866168</td>\n",
       "      <td>0.251471</td>\n",
       "      <td>-1.617801</td>\n",
       "      <td>-1.786675</td>\n",
       "      <td>1.101735</td>\n",
       "      <td>1.274771</td>\n",
       "      <td>1</td>\n",
       "    </tr>\n",
       "    <tr>\n",
       "      <th>5</th>\n",
       "      <td>0.350365</td>\n",
       "      <td>0.768059</td>\n",
       "      <td>-2.009277</td>\n",
       "      <td>0.553485</td>\n",
       "      <td>1.181387</td>\n",
       "      <td>-0.470707</td>\n",
       "      <td>0.592198</td>\n",
       "      <td>1.638406</td>\n",
       "      <td>0</td>\n",
       "    </tr>\n",
       "    <tr>\n",
       "      <th>...</th>\n",
       "      <td>...</td>\n",
       "      <td>...</td>\n",
       "      <td>...</td>\n",
       "      <td>...</td>\n",
       "      <td>...</td>\n",
       "      <td>...</td>\n",
       "      <td>...</td>\n",
       "      <td>...</td>\n",
       "      <td>...</td>\n",
       "    </tr>\n",
       "    <tr>\n",
       "      <th>8120</th>\n",
       "      <td>-1.140513</td>\n",
       "      <td>-0.569283</td>\n",
       "      <td>1.632041</td>\n",
       "      <td>4.384855</td>\n",
       "      <td>2.136045</td>\n",
       "      <td>-1.127270</td>\n",
       "      <td>0.283630</td>\n",
       "      <td>0.623027</td>\n",
       "      <td>0</td>\n",
       "    </tr>\n",
       "    <tr>\n",
       "      <th>8121</th>\n",
       "      <td>-1.289840</td>\n",
       "      <td>-1.036081</td>\n",
       "      <td>2.791022</td>\n",
       "      <td>5.112762</td>\n",
       "      <td>3.045810</td>\n",
       "      <td>-1.846342</td>\n",
       "      <td>1.690251</td>\n",
       "      <td>0.214880</td>\n",
       "      <td>0</td>\n",
       "    </tr>\n",
       "    <tr>\n",
       "      <th>8122</th>\n",
       "      <td>-0.823824</td>\n",
       "      <td>-0.469492</td>\n",
       "      <td>1.764246</td>\n",
       "      <td>4.384296</td>\n",
       "      <td>1.899061</td>\n",
       "      <td>-1.332666</td>\n",
       "      <td>-0.326713</td>\n",
       "      <td>0.306344</td>\n",
       "      <td>0</td>\n",
       "    </tr>\n",
       "    <tr>\n",
       "      <th>8123</th>\n",
       "      <td>1.864884</td>\n",
       "      <td>-0.640082</td>\n",
       "      <td>0.108723</td>\n",
       "      <td>-0.099549</td>\n",
       "      <td>-0.117981</td>\n",
       "      <td>-0.386917</td>\n",
       "      <td>-0.338847</td>\n",
       "      <td>-0.195309</td>\n",
       "      <td>1</td>\n",
       "    </tr>\n",
       "    <tr>\n",
       "      <th>8124</th>\n",
       "      <td>-0.800295</td>\n",
       "      <td>-0.761435</td>\n",
       "      <td>1.579436</td>\n",
       "      <td>4.442717</td>\n",
       "      <td>2.086111</td>\n",
       "      <td>-0.998910</td>\n",
       "      <td>1.522181</td>\n",
       "      <td>0.817215</td>\n",
       "      <td>0</td>\n",
       "    </tr>\n",
       "  </tbody>\n",
       "</table>\n",
       "<p>8124 rows × 9 columns</p>\n",
       "</div>"
      ],
      "text/plain": [
       "          pca1      pca2      pca3      pca4      pca5      pca6      pca7  \\\n",
       "1    -0.291789 -0.604759 -0.788522  0.126024 -1.112580 -1.302411  1.219301   \n",
       "2    -1.159443  0.172955 -0.774798  0.184822 -1.150610 -1.258988  1.094253   \n",
       "3    -0.943991 -0.167940 -0.885725  0.717373 -1.387207 -0.740162 -1.787184   \n",
       "4    -0.449520 -0.468835 -0.866168  0.251471 -1.617801 -1.786675  1.101735   \n",
       "5     0.350365  0.768059 -2.009277  0.553485  1.181387 -0.470707  0.592198   \n",
       "...        ...       ...       ...       ...       ...       ...       ...   \n",
       "8120 -1.140513 -0.569283  1.632041  4.384855  2.136045 -1.127270  0.283630   \n",
       "8121 -1.289840 -1.036081  2.791022  5.112762  3.045810 -1.846342  1.690251   \n",
       "8122 -0.823824 -0.469492  1.764246  4.384296  1.899061 -1.332666 -0.326713   \n",
       "8123  1.864884 -0.640082  0.108723 -0.099549 -0.117981 -0.386917 -0.338847   \n",
       "8124 -0.800295 -0.761435  1.579436  4.442717  2.086111 -0.998910  1.522181   \n",
       "\n",
       "          pca8  0  \n",
       "1     1.583870  1  \n",
       "2    -0.349049  0  \n",
       "3    -0.293537  0  \n",
       "4     1.274771  1  \n",
       "5     1.638406  0  \n",
       "...        ... ..  \n",
       "8120  0.623027  0  \n",
       "8121  0.214880  0  \n",
       "8122  0.306344  0  \n",
       "8123 -0.195309  1  \n",
       "8124  0.817215  0  \n",
       "\n",
       "[8124 rows x 9 columns]"
      ]
     },
     "execution_count": 30,
     "metadata": {},
     "output_type": "execute_result"
    }
   ],
   "source": [
    "mushroomPCA"
   ]
  },
  {
   "cell_type": "code",
   "execution_count": 31,
   "metadata": {},
   "outputs": [
    {
     "name": "stdout",
     "output_type": "stream",
     "text": [
      "Index(['pca1', 'pca2', 'pca3', 'pca4', 'pca5', 'pca6', 'pca7', 'pca8',\n",
      "       'class'],\n",
      "      dtype='object')\n"
     ]
    }
   ],
   "source": [
    "mushroomPCA.rename(columns={0:'class'}, inplace=True)\n",
    "print(mushroomPCA.columns)"
   ]
  },
  {
   "cell_type": "code",
   "execution_count": 32,
   "metadata": {},
   "outputs": [
    {
     "data": {
      "text/plain": [
       "pca1     float64\n",
       "pca2     float64\n",
       "pca3     float64\n",
       "pca4     float64\n",
       "pca5     float64\n",
       "pca6     float64\n",
       "pca7     float64\n",
       "pca8     float64\n",
       "class      int64\n",
       "dtype: object"
      ]
     },
     "execution_count": 32,
     "metadata": {},
     "output_type": "execute_result"
    }
   ],
   "source": [
    "mushroomPCA.dtypes"
   ]
  },
  {
   "cell_type": "markdown",
   "metadata": {},
   "source": [
    "### 6.1 PCA Train Test Split"
   ]
  },
  {
   "cell_type": "code",
   "execution_count": 33,
   "metadata": {},
   "outputs": [],
   "source": [
    "# x and y value using pca\n",
    "PCA_predictors = mushroomPCA\n",
    "xPCA = PCA_predictors.drop('class',axis=1)\n",
    "yPCA = mushroomPCA[\"class\"]"
   ]
  },
  {
   "cell_type": "code",
   "execution_count": 34,
   "metadata": {},
   "outputs": [],
   "source": [
    "xTrain,xTest,yTrain,yTest = train_test_split(xPCA, yPCA, test_size=0.2,random_state=42)"
   ]
  },
  {
   "cell_type": "code",
   "execution_count": 35,
   "metadata": {},
   "outputs": [],
   "source": [
    "lr = LogisticRegression(solver=\"liblinear\").fit(xTrain,yTrain)\n",
    "gnb = GaussianNB().fit(xTrain,yTrain)\n",
    "knn = KNeighborsClassifier().fit(xTrain,yTrain)\n",
    "tree = DecisionTreeClassifier(random_state=42).fit(xTrain,yTrain)\n",
    "rfc = RandomForestClassifier(n_estimators=100, random_state=42,verbose=False).fit(xTrain,yTrain)\n",
    "gbmc = GradientBoostingClassifier(n_estimators=100, verbose=False).fit(xTrain,yTrain)\n",
    "svm=SVC(random_state=42).fit(xTrain,yTrain)\n",
    "models = [lr,gnb,knn,tree,rfc,gbmc,svm]\n",
    "\n",
    "model_name = [\"Logistic Regression(PCA)\",\"GaussianNB(PCA)\",\"KNeighbors Classifier(PCA)\",\n",
    "             \"Decision Tree Classifier(PCA)\",\"Random Forest Classifier(PCA)\",\n",
    "             \"Gradient Boosting Classifier(PCA)\",\"Support Vector Classifier(PCA)\"]"
   ]
  },
  {
   "cell_type": "code",
   "execution_count": 36,
   "metadata": {},
   "outputs": [
    {
     "name": "stdout",
     "output_type": "stream",
     "text": [
      "-------------------------------\n",
      "Logistic Regression(PCA)\n",
      "-------------------------------\n",
      "Test Score: 0.8923076923076924\n",
      "\n",
      "Confusion Matrix (Accuracy 0.8898)\n",
      "\n",
      "       Prediction\n",
      "Actual   0   1\n",
      "     0 781  62\n",
      "     1 117 665\n",
      "\n",
      "recall Score(y = 0): 0.9264531435349941\n",
      "recall Score(y = 1): 0.850383631713555\n",
      "precision Score(y = 0): 0.8697104677060133\n",
      "precision Score(y = 1): 0.9147180192572214\n",
      "\n",
      "Statistics\n",
      "                     Mean Error (ME)  : 0.0338\n",
      "       Root Mean Squared Error (RMSE) : 0.3319\n",
      "            Mean Absolute Error (MAE) : 0.1102\n",
      "\n",
      "Total time: 0.003471763000000294\n",
      "\n"
     ]
    },
    {
     "data": {
      "image/png": "[encoded data removed]",
      "text/plain": [
       "<Figure size 360x288 with 2 Axes>"
      ]
     },
     "metadata": {
      "needs_background": "light"
     },
     "output_type": "display_data"
    },
    {
     "name": "stdout",
     "output_type": "stream",
     "text": [
      "-------------------------------\n",
      "GaussianNB(PCA)\n",
      "-------------------------------\n",
      "Test Score: 0.9021538461538462\n",
      "\n",
      "Confusion Matrix (Accuracy 0.9022)\n",
      "\n",
      "       Prediction\n",
      "Actual   0   1\n",
      "     0 782  61\n",
      "     1  98 684\n",
      "\n",
      "recall Score(y = 0): 0.9276393831553974\n",
      "recall Score(y = 1): 0.8746803069053708\n",
      "precision Score(y = 0): 0.8886363636363637\n",
      "precision Score(y = 1): 0.9181208053691275\n",
      "\n",
      "Statistics\n",
      "                     Mean Error (ME)  : 0.0228\n",
      "       Root Mean Squared Error (RMSE) : 0.3128\n",
      "            Mean Absolute Error (MAE) : 0.0978\n",
      "\n",
      "Total time: 0.0073963620000014885\n",
      "\n"
     ]
    },
    {
     "data": {
      "image/png": "[encoded data removed]",
      "text/plain": [
       "<Figure size 360x288 with 2 Axes>"
      ]
     },
     "metadata": {
      "needs_background": "light"
     },
     "output_type": "display_data"
    },
    {
     "name": "stdout",
     "output_type": "stream",
     "text": [
      "-------------------------------\n",
      "KNeighbors Classifier(PCA)\n",
      "-------------------------------\n",
      "Test Score: 0.9963076923076923\n",
      "\n",
      "Confusion Matrix (Accuracy 0.9883)\n",
      "\n",
      "       Prediction\n",
      "Actual   0   1\n",
      "     0 837   6\n",
      "     1  13 769\n",
      "\n",
      "recall Score(y = 0): 0.9928825622775801\n",
      "recall Score(y = 1): 0.9833759590792839\n",
      "precision Score(y = 0): 0.9847058823529412\n",
      "precision Score(y = 1): 0.9922580645161291\n",
      "\n",
      "Statistics\n",
      "                     Mean Error (ME)  : 0.0043\n",
      "       Root Mean Squared Error (RMSE) : 0.1081\n",
      "            Mean Absolute Error (MAE) : 0.0117\n",
      "\n",
      "Total time: 0.08662816999999734\n",
      "\n"
     ]
    },
    {
     "data": {
      "image/png": "[encoded data removed]",
      "text/plain": [
       "<Figure size 360x288 with 2 Axes>"
      ]
     },
     "metadata": {
      "needs_background": "light"
     },
     "output_type": "display_data"
    },
    {
     "name": "stdout",
     "output_type": "stream",
     "text": [
      "-------------------------------\n",
      "Decision Tree Classifier(PCA)\n",
      "-------------------------------\n",
      "Test Score: 0.9907692307692307\n",
      "\n",
      "Confusion Matrix (Accuracy 0.9729)\n",
      "\n",
      "       Prediction\n",
      "Actual   0   1\n",
      "     0 823  20\n",
      "     1  24 758\n",
      "\n",
      "recall Score(y = 0): 0.9762752075919335\n",
      "recall Score(y = 1): 0.969309462915601\n",
      "precision Score(y = 0): 0.9716646989374262\n",
      "precision Score(y = 1): 0.974293059125964\n",
      "\n",
      "Statistics\n",
      "                     Mean Error (ME)  : 0.0025\n",
      "       Root Mean Squared Error (RMSE) : 0.1646\n",
      "            Mean Absolute Error (MAE) : 0.0271\n",
      "\n",
      "Total time: 0.0035221569999990265\n",
      "\n"
     ]
    },
    {
     "data": {
      "image/png": "[encoded data removed]",
      "text/plain": [
       "<Figure size 360x288 with 2 Axes>"
      ]
     },
     "metadata": {
      "needs_background": "light"
     },
     "output_type": "display_data"
    },
    {
     "name": "stdout",
     "output_type": "stream",
     "text": [
      "-------------------------------\n",
      "Random Forest Classifier(PCA)\n",
      "-------------------------------\n",
      "Test Score: 0.9987692307692307\n",
      "\n",
      "Confusion Matrix (Accuracy 0.9865)\n",
      "\n",
      "       Prediction\n",
      "Actual   0   1\n",
      "     0 839   4\n",
      "     1  18 764\n",
      "\n",
      "recall Score(y = 0): 0.9952550415183867\n",
      "recall Score(y = 1): 0.9769820971867008\n",
      "precision Score(y = 0): 0.9789964994165694\n",
      "precision Score(y = 1): 0.9947916666666666\n",
      "\n",
      "Statistics\n",
      "                     Mean Error (ME)  : 0.0086\n",
      "       Root Mean Squared Error (RMSE) : 0.1164\n",
      "            Mean Absolute Error (MAE) : 0.0135\n",
      "\n",
      "Total time: 0.05417133699999965\n",
      "\n"
     ]
    },
    {
     "data": {
      "image/png": "[encoded data removed]",
      "text/plain": [
       "<Figure size 360x288 with 2 Axes>"
      ]
     },
     "metadata": {
      "needs_background": "light"
     },
     "output_type": "display_data"
    },
    {
     "name": "stdout",
     "output_type": "stream",
     "text": [
      "-------------------------------\n",
      "Gradient Boosting Classifier(PCA)\n",
      "-------------------------------\n",
      "Test Score: 0.9926153846153846\n",
      "\n",
      "Confusion Matrix (Accuracy 0.9772)\n",
      "\n",
      "       Prediction\n",
      "Actual   0   1\n",
      "     0 832  11\n",
      "     1  26 756\n",
      "\n",
      "recall Score(y = 0): 0.9869513641755635\n",
      "recall Score(y = 1): 0.9667519181585678\n",
      "precision Score(y = 0): 0.9696969696969697\n",
      "precision Score(y = 1): 0.9856584093872229\n",
      "\n",
      "Statistics\n",
      "                     Mean Error (ME)  : 0.0092\n",
      "       Root Mean Squared Error (RMSE) : 0.1509\n",
      "            Mean Absolute Error (MAE) : 0.0228\n",
      "\n",
      "Total time: 0.00857600700000205\n",
      "\n"
     ]
    },
    {
     "data": {
      "image/png": "[encoded data removed]",
      "text/plain": [
       "<Figure size 360x288 with 2 Axes>"
      ]
     },
     "metadata": {
      "needs_background": "light"
     },
     "output_type": "display_data"
    },
    {
     "name": "stdout",
     "output_type": "stream",
     "text": [
      "-------------------------------\n",
      "Support Vector Classifier(PCA)\n",
      "-------------------------------\n",
      "Test Score: 0.992\n",
      "\n",
      "Confusion Matrix (Accuracy 0.9723)\n",
      "\n",
      "       Prediction\n",
      "Actual   0   1\n",
      "     0 817  26\n",
      "     1  19 763\n",
      "\n",
      "recall Score(y = 0): 0.9691577698695136\n",
      "recall Score(y = 1): 0.9757033248081841\n",
      "precision Score(y = 0): 0.9772727272727273\n",
      "precision Score(y = 1): 0.9670468948035488\n",
      "\n",
      "Statistics\n",
      "                     Mean Error (ME)  : -0.0043\n",
      "       Root Mean Squared Error (RMSE) : 0.1664\n",
      "            Mean Absolute Error (MAE) : 0.0277\n",
      "\n",
      "Total time: 0.024589487000000076\n",
      "\n"
     ]
    },
    {
     "data": {
      "image/png": "[encoded data removed]",
      "text/plain": [
       "<Figure size 360x288 with 2 Axes>"
      ]
     },
     "metadata": {
      "needs_background": "light"
     },
     "output_type": "display_data"
    }
   ],
   "source": [
    "i=0\n",
    "for model in models:\n",
    "    print(\"-------------------------------\")\n",
    "    print(model_name[i])\n",
    "    print(\"-------------------------------\")\n",
    "    v = get_model_data(xTest,yTest,model,model_name[i])\n",
    "    table_vector.append(v)\n",
    "    y_pred_model = model.predict(xTest)\n",
    "    cm = confusion_matrix(yTest, y_pred_model)\n",
    "    f, ax = plt.subplots(figsize =(5,4))\n",
    "    sns.heatmap(cm,annot = True,cmap=\"Pastel2\",linewidths=0.5,fmt = \".0f\",ax=ax)\n",
    "    plt.xlabel(\"y_pred_model\")\n",
    "    plt.ylabel(\"y_true_model\")\n",
    "    plt.title(model_name[i])\n",
    "    plt.show()\n",
    "    i=i+1"
   ]
  },
  {
   "cell_type": "markdown",
   "metadata": {},
   "source": [
    "### 6.2 Models Comparison"
   ]
  },
  {
   "cell_type": "markdown",
   "metadata": {},
   "source": [
    "In this case, we collect and reorganize the results of all the models before PCA and after PCA. We finally pick Random Forest as our best model since it has the highest Test Score and the lowest RMSE."
   ]
  },
  {
   "cell_type": "code",
   "execution_count": 37,
   "metadata": {},
   "outputs": [
    {
     "data": {
      "text/html": [
       "<div>\n",
       "<style scoped>\n",
       "    .dataframe tbody tr th:only-of-type {\n",
       "        vertical-align: middle;\n",
       "    }\n",
       "\n",
       "    .dataframe tbody tr th {\n",
       "        vertical-align: top;\n",
       "    }\n",
       "\n",
       "    .dataframe thead th {\n",
       "        text-align: right;\n",
       "    }\n",
       "</style>\n",
       "<table border=\"1\" class=\"dataframe\">\n",
       "  <thead>\n",
       "    <tr style=\"text-align: right;\">\n",
       "      <th></th>\n",
       "      <th>Model</th>\n",
       "      <th>Test Score</th>\n",
       "      <th>Recall(0)</th>\n",
       "      <th>Recall(1)</th>\n",
       "      <th>Precision(0)</th>\n",
       "      <th>Precision(1)</th>\n",
       "      <th>MAE</th>\n",
       "      <th>RMSE</th>\n",
       "      <th>Time</th>\n",
       "    </tr>\n",
       "  </thead>\n",
       "  <tbody>\n",
       "    <tr>\n",
       "      <th>1</th>\n",
       "      <td>Logistic Regression</td>\n",
       "      <td>0.963</td>\n",
       "      <td>0.963</td>\n",
       "      <td>0.936</td>\n",
       "      <td>0.942</td>\n",
       "      <td>0.959</td>\n",
       "      <td>0.0498</td>\n",
       "      <td>0.2233</td>\n",
       "      <td>0.002</td>\n",
       "    </tr>\n",
       "    <tr>\n",
       "      <th>2</th>\n",
       "      <td>GaussianNB</td>\n",
       "      <td>0.916</td>\n",
       "      <td>0.395</td>\n",
       "      <td>0.949</td>\n",
       "      <td>0.893</td>\n",
       "      <td>0.593</td>\n",
       "      <td>0.3378</td>\n",
       "      <td>0.5812</td>\n",
       "      <td>0.005</td>\n",
       "    </tr>\n",
       "    <tr>\n",
       "      <th>3</th>\n",
       "      <td>KNeighbors Classifier</td>\n",
       "      <td>1.000</td>\n",
       "      <td>0.998</td>\n",
       "      <td>0.995</td>\n",
       "      <td>0.995</td>\n",
       "      <td>0.997</td>\n",
       "      <td>0.0037</td>\n",
       "      <td>0.0608</td>\n",
       "      <td>0.255</td>\n",
       "    </tr>\n",
       "    <tr>\n",
       "      <th>4</th>\n",
       "      <td>Decision Tree Classifier</td>\n",
       "      <td>1.000</td>\n",
       "      <td>1.000</td>\n",
       "      <td>1.000</td>\n",
       "      <td>1.000</td>\n",
       "      <td>1.000</td>\n",
       "      <td>0.0000</td>\n",
       "      <td>0.0000</td>\n",
       "      <td>0.002</td>\n",
       "    </tr>\n",
       "    <tr>\n",
       "      <th>5</th>\n",
       "      <td>Random Forest Classifier</td>\n",
       "      <td>1.000</td>\n",
       "      <td>1.000</td>\n",
       "      <td>0.997</td>\n",
       "      <td>0.998</td>\n",
       "      <td>1.000</td>\n",
       "      <td>0.0012</td>\n",
       "      <td>0.0351</td>\n",
       "      <td>0.046</td>\n",
       "    </tr>\n",
       "    <tr>\n",
       "      <th>6</th>\n",
       "      <td>Gradient Boosting Classifier</td>\n",
       "      <td>1.000</td>\n",
       "      <td>1.000</td>\n",
       "      <td>0.997</td>\n",
       "      <td>0.998</td>\n",
       "      <td>1.000</td>\n",
       "      <td>0.0012</td>\n",
       "      <td>0.0351</td>\n",
       "      <td>0.040</td>\n",
       "    </tr>\n",
       "    <tr>\n",
       "      <th>7</th>\n",
       "      <td>Support Vector Classifier</td>\n",
       "      <td>1.000</td>\n",
       "      <td>0.998</td>\n",
       "      <td>0.996</td>\n",
       "      <td>0.996</td>\n",
       "      <td>0.997</td>\n",
       "      <td>0.0031</td>\n",
       "      <td>0.0555</td>\n",
       "      <td>0.020</td>\n",
       "    </tr>\n",
       "    <tr>\n",
       "      <th>8</th>\n",
       "      <td>Logistic Regression(PCA)</td>\n",
       "      <td>0.892</td>\n",
       "      <td>0.926</td>\n",
       "      <td>0.850</td>\n",
       "      <td>0.870</td>\n",
       "      <td>0.915</td>\n",
       "      <td>0.1102</td>\n",
       "      <td>0.3319</td>\n",
       "      <td>0.003</td>\n",
       "    </tr>\n",
       "    <tr>\n",
       "      <th>9</th>\n",
       "      <td>GaussianNB(PCA)</td>\n",
       "      <td>0.902</td>\n",
       "      <td>0.928</td>\n",
       "      <td>0.875</td>\n",
       "      <td>0.889</td>\n",
       "      <td>0.918</td>\n",
       "      <td>0.0978</td>\n",
       "      <td>0.3128</td>\n",
       "      <td>0.007</td>\n",
       "    </tr>\n",
       "    <tr>\n",
       "      <th>10</th>\n",
       "      <td>KNeighbors Classifier(PCA)</td>\n",
       "      <td>0.996</td>\n",
       "      <td>0.993</td>\n",
       "      <td>0.983</td>\n",
       "      <td>0.985</td>\n",
       "      <td>0.992</td>\n",
       "      <td>0.0117</td>\n",
       "      <td>0.1081</td>\n",
       "      <td>0.087</td>\n",
       "    </tr>\n",
       "    <tr>\n",
       "      <th>11</th>\n",
       "      <td>Decision Tree Classifier(PCA)</td>\n",
       "      <td>0.991</td>\n",
       "      <td>0.976</td>\n",
       "      <td>0.969</td>\n",
       "      <td>0.972</td>\n",
       "      <td>0.974</td>\n",
       "      <td>0.0271</td>\n",
       "      <td>0.1646</td>\n",
       "      <td>0.004</td>\n",
       "    </tr>\n",
       "    <tr>\n",
       "      <th>12</th>\n",
       "      <td>Random Forest Classifier(PCA)</td>\n",
       "      <td>0.999</td>\n",
       "      <td>0.995</td>\n",
       "      <td>0.977</td>\n",
       "      <td>0.979</td>\n",
       "      <td>0.995</td>\n",
       "      <td>0.0135</td>\n",
       "      <td>0.1164</td>\n",
       "      <td>0.054</td>\n",
       "    </tr>\n",
       "    <tr>\n",
       "      <th>13</th>\n",
       "      <td>Gradient Boosting Classifier(PCA)</td>\n",
       "      <td>0.993</td>\n",
       "      <td>0.987</td>\n",
       "      <td>0.967</td>\n",
       "      <td>0.970</td>\n",
       "      <td>0.986</td>\n",
       "      <td>0.0228</td>\n",
       "      <td>0.1509</td>\n",
       "      <td>0.009</td>\n",
       "    </tr>\n",
       "    <tr>\n",
       "      <th>14</th>\n",
       "      <td>Support Vector Classifier(PCA)</td>\n",
       "      <td>0.992</td>\n",
       "      <td>0.969</td>\n",
       "      <td>0.976</td>\n",
       "      <td>0.977</td>\n",
       "      <td>0.967</td>\n",
       "      <td>0.0277</td>\n",
       "      <td>0.1664</td>\n",
       "      <td>0.025</td>\n",
       "    </tr>\n",
       "  </tbody>\n",
       "</table>\n",
       "</div>"
      ],
      "text/plain": [
       "                                Model  Test Score  Recall(0)  Recall(1)  \\\n",
       "1                 Logistic Regression       0.963      0.963      0.936   \n",
       "2                          GaussianNB       0.916      0.395      0.949   \n",
       "3               KNeighbors Classifier       1.000      0.998      0.995   \n",
       "4            Decision Tree Classifier       1.000      1.000      1.000   \n",
       "5            Random Forest Classifier       1.000      1.000      0.997   \n",
       "6        Gradient Boosting Classifier       1.000      1.000      0.997   \n",
       "7           Support Vector Classifier       1.000      0.998      0.996   \n",
       "8            Logistic Regression(PCA)       0.892      0.926      0.850   \n",
       "9                     GaussianNB(PCA)       0.902      0.928      0.875   \n",
       "10         KNeighbors Classifier(PCA)       0.996      0.993      0.983   \n",
       "11      Decision Tree Classifier(PCA)       0.991      0.976      0.969   \n",
       "12      Random Forest Classifier(PCA)       0.999      0.995      0.977   \n",
       "13  Gradient Boosting Classifier(PCA)       0.993      0.987      0.967   \n",
       "14     Support Vector Classifier(PCA)       0.992      0.969      0.976   \n",
       "\n",
       "    Precision(0)  Precision(1)     MAE    RMSE   Time  \n",
       "1          0.942         0.959  0.0498  0.2233  0.002  \n",
       "2          0.893         0.593  0.3378  0.5812  0.005  \n",
       "3          0.995         0.997  0.0037  0.0608  0.255  \n",
       "4          1.000         1.000  0.0000  0.0000  0.002  \n",
       "5          0.998         1.000  0.0012  0.0351  0.046  \n",
       "6          0.998         1.000  0.0012  0.0351  0.040  \n",
       "7          0.996         0.997  0.0031  0.0555  0.020  \n",
       "8          0.870         0.915  0.1102  0.3319  0.003  \n",
       "9          0.889         0.918  0.0978  0.3128  0.007  \n",
       "10         0.985         0.992  0.0117  0.1081  0.087  \n",
       "11         0.972         0.974  0.0271  0.1646  0.004  \n",
       "12         0.979         0.995  0.0135  0.1164  0.054  \n",
       "13         0.970         0.986  0.0228  0.1509  0.009  \n",
       "14         0.977         0.967  0.0277  0.1664  0.025  "
      ]
     },
     "execution_count": 37,
     "metadata": {},
     "output_type": "execute_result"
    }
   ],
   "source": [
    "results1 = pd.DataFrame(data=table_vector,columns=['Model','Test Score','Recall(0)',\n",
    "              'Recall(1)','Precision(0)','Precision(1)','ME','RMSE','MAE','Time'])\n",
    "results1.index += 1\n",
    "results1[['Model','Test Score',\n",
    "         'Recall(0)','Recall(1)',\n",
    "         'Precision(0)','Precision(1)',\n",
    "         'MAE','RMSE','Time']]"
   ]
  },
  {
   "cell_type": "code",
   "execution_count": 38,
   "metadata": {},
   "outputs": [
    {
     "data": {
      "text/plain": [
       "<function matplotlib.pyplot.show(close=None, block=None)>"
      ]
     },
     "execution_count": 38,
     "metadata": {},
     "output_type": "execute_result"
    },
    {
     "data": {
      "image/png": "[encoded data removed]",
      "text/plain": [
       "<Figure size 1440x576 with 1 Axes>"
      ]
     },
     "metadata": {
      "needs_background": "light"
     },
     "output_type": "display_data"
    }
   ],
   "source": [
    "figure = plt.figure(figsize=(20,8))\n",
    "sns.barplot(x = 'Test Score',y= 'Model', data=results1, palette = sns.cubehelix_palette(len('Coefficient of determination(R^2)'), start=.5, rot=-.85))\n",
    "plt.xlabel(\"Test Score\", fontsize = 18)\n",
    "plt.ylabel(\"Models\", fontsize = 18)\n",
    "plt.title(\"Test Score Comparison\", fontsize = 18)\n",
    "plt.show"
   ]
  },
  {
   "cell_type": "markdown",
   "metadata": {},
   "source": [
    "### 6.3 Feature Importances"
   ]
  },
  {
   "cell_type": "markdown",
   "metadata": {},
   "source": [
    "#### 6.3.1 Decision Tree and its Feature Importance"
   ]
  },
  {
   "cell_type": "code",
   "execution_count": 39,
   "metadata": {},
   "outputs": [
    {
     "data": {
      "text/plain": [
       "Text(0.5, 0, 'Decision Tree Feature Importance')"
      ]
     },
     "execution_count": 39,
     "metadata": {},
     "output_type": "execute_result"
    },
    {
     "data": {
      "image/png": "[encoded data removed]",
      "text/plain": [
       "<Figure size 432x288 with 1 Axes>"
      ]
     },
     "metadata": {
      "needs_background": "light"
     },
     "output_type": "display_data"
    }
   ],
   "source": [
    "tree.feature_importances_\n",
    "sorted_idx = tree.feature_importances_.argsort()\n",
    "plt.barh(xPCA.columns.tolist(), tree.feature_importances_[sorted_idx])\n",
    "plt.xlabel(\"Decision Tree Feature Importance\")"
   ]
  },
  {
   "cell_type": "markdown",
   "metadata": {},
   "source": [
    "#### 6.3.2 Random Forest and its Feature Importance"
   ]
  },
  {
   "cell_type": "code",
   "execution_count": 40,
   "metadata": {},
   "outputs": [
    {
     "data": {
      "text/plain": [
       "Text(0.5, 0, 'Random Forest Feature Importance')"
      ]
     },
     "execution_count": 40,
     "metadata": {},
     "output_type": "execute_result"
    },
    {
     "data": {
      "image/png": "[encoded data removed]",
      "text/plain": [
       "<Figure size 432x288 with 1 Axes>"
      ]
     },
     "metadata": {
      "needs_background": "light"
     },
     "output_type": "display_data"
    }
   ],
   "source": [
    "rfc.feature_importances_\n",
    "sorted_idx = rfc.feature_importances_.argsort()\n",
    "plt.barh(xPCA.columns.tolist(), rfc.feature_importances_[sorted_idx])\n",
    "plt.xlabel(\"Random Forest Feature Importance\")"
   ]
  },
  {
   "cell_type": "markdown",
   "metadata": {},
   "source": [
    "#### 6.3.3 Gradient Boosting and its Feature Importance"
   ]
  },
  {
   "cell_type": "code",
   "execution_count": 41,
   "metadata": {},
   "outputs": [
    {
     "data": {
      "text/plain": [
       "Text(0.5, 0, 'Gradient Boosting Feature Importance')"
      ]
     },
     "execution_count": 41,
     "metadata": {},
     "output_type": "execute_result"
    },
    {
     "data": {
      "image/png": "[encoded data removed]",
      "text/plain": [
       "<Figure size 432x288 with 1 Axes>"
      ]
     },
     "metadata": {
      "needs_background": "light"
     },
     "output_type": "display_data"
    }
   ],
   "source": [
    "gbmc.feature_importances_\n",
    "sorted_idx = gbmc.feature_importances_.argsort()\n",
    "plt.barh(xPCA.columns.tolist(), gbmc.feature_importances_[sorted_idx])\n",
    "plt.xlabel(\"Gradient Boosting Feature Importance\")"
   ]
  },
  {
   "cell_type": "markdown",
   "metadata": {},
   "source": [
    "## 7. Fit the Model with Unseen Data"
   ]
  },
  {
   "cell_type": "markdown",
   "metadata": {},
   "source": [
    "### 7.1 Data Exploration"
   ]
  },
  {
   "cell_type": "code",
   "execution_count": 42,
   "metadata": {},
   "outputs": [
    {
     "data": {
      "text/html": [
       "<div>\n",
       "<style scoped>\n",
       "    .dataframe tbody tr th:only-of-type {\n",
       "        vertical-align: middle;\n",
       "    }\n",
       "\n",
       "    .dataframe tbody tr th {\n",
       "        vertical-align: top;\n",
       "    }\n",
       "\n",
       "    .dataframe thead th {\n",
       "        text-align: right;\n",
       "    }\n",
       "</style>\n",
       "<table border=\"1\" class=\"dataframe\">\n",
       "  <thead>\n",
       "    <tr style=\"text-align: right;\">\n",
       "      <th></th>\n",
       "      <th>class</th>\n",
       "      <th>cap-shape</th>\n",
       "      <th>cap-surface</th>\n",
       "      <th>cap-color</th>\n",
       "      <th>bruises</th>\n",
       "      <th>odor</th>\n",
       "      <th>gill-attachment</th>\n",
       "      <th>gill-spacing</th>\n",
       "      <th>gill-size</th>\n",
       "      <th>gill-color</th>\n",
       "      <th>...</th>\n",
       "      <th>stalk-surface-below-ring</th>\n",
       "      <th>stalk-color-above-ring</th>\n",
       "      <th>stalk-color-below-ring</th>\n",
       "      <th>veil-type</th>\n",
       "      <th>veil-color</th>\n",
       "      <th>ring-number</th>\n",
       "      <th>ring-type</th>\n",
       "      <th>spore-print-color</th>\n",
       "      <th>population</th>\n",
       "      <th>habitat</th>\n",
       "    </tr>\n",
       "  </thead>\n",
       "  <tbody>\n",
       "    <tr>\n",
       "      <th>0</th>\n",
       "      <td>p</td>\n",
       "      <td>x</td>\n",
       "      <td>s</td>\n",
       "      <td>n</td>\n",
       "      <td>t</td>\n",
       "      <td>p</td>\n",
       "      <td>f</td>\n",
       "      <td>c</td>\n",
       "      <td>n</td>\n",
       "      <td>k</td>\n",
       "      <td>...</td>\n",
       "      <td>s</td>\n",
       "      <td>w</td>\n",
       "      <td>w</td>\n",
       "      <td>p</td>\n",
       "      <td>w</td>\n",
       "      <td>o</td>\n",
       "      <td>p</td>\n",
       "      <td>k</td>\n",
       "      <td>s</td>\n",
       "      <td>u</td>\n",
       "    </tr>\n",
       "    <tr>\n",
       "      <th>1</th>\n",
       "      <td>e</td>\n",
       "      <td>x</td>\n",
       "      <td>s</td>\n",
       "      <td>y</td>\n",
       "      <td>t</td>\n",
       "      <td>a</td>\n",
       "      <td>f</td>\n",
       "      <td>c</td>\n",
       "      <td>b</td>\n",
       "      <td>k</td>\n",
       "      <td>...</td>\n",
       "      <td>s</td>\n",
       "      <td>w</td>\n",
       "      <td>w</td>\n",
       "      <td>p</td>\n",
       "      <td>w</td>\n",
       "      <td>o</td>\n",
       "      <td>p</td>\n",
       "      <td>n</td>\n",
       "      <td>n</td>\n",
       "      <td>g</td>\n",
       "    </tr>\n",
       "    <tr>\n",
       "      <th>2</th>\n",
       "      <td>e</td>\n",
       "      <td>b</td>\n",
       "      <td>s</td>\n",
       "      <td>w</td>\n",
       "      <td>t</td>\n",
       "      <td>l</td>\n",
       "      <td>f</td>\n",
       "      <td>c</td>\n",
       "      <td>b</td>\n",
       "      <td>n</td>\n",
       "      <td>...</td>\n",
       "      <td>s</td>\n",
       "      <td>w</td>\n",
       "      <td>w</td>\n",
       "      <td>p</td>\n",
       "      <td>w</td>\n",
       "      <td>o</td>\n",
       "      <td>p</td>\n",
       "      <td>n</td>\n",
       "      <td>n</td>\n",
       "      <td>m</td>\n",
       "    </tr>\n",
       "    <tr>\n",
       "      <th>3</th>\n",
       "      <td>p</td>\n",
       "      <td>x</td>\n",
       "      <td>y</td>\n",
       "      <td>w</td>\n",
       "      <td>t</td>\n",
       "      <td>p</td>\n",
       "      <td>f</td>\n",
       "      <td>c</td>\n",
       "      <td>n</td>\n",
       "      <td>n</td>\n",
       "      <td>...</td>\n",
       "      <td>s</td>\n",
       "      <td>w</td>\n",
       "      <td>w</td>\n",
       "      <td>p</td>\n",
       "      <td>w</td>\n",
       "      <td>o</td>\n",
       "      <td>p</td>\n",
       "      <td>k</td>\n",
       "      <td>s</td>\n",
       "      <td>u</td>\n",
       "    </tr>\n",
       "    <tr>\n",
       "      <th>4</th>\n",
       "      <td>e</td>\n",
       "      <td>x</td>\n",
       "      <td>s</td>\n",
       "      <td>g</td>\n",
       "      <td>f</td>\n",
       "      <td>n</td>\n",
       "      <td>f</td>\n",
       "      <td>w</td>\n",
       "      <td>b</td>\n",
       "      <td>k</td>\n",
       "      <td>...</td>\n",
       "      <td>s</td>\n",
       "      <td>w</td>\n",
       "      <td>w</td>\n",
       "      <td>p</td>\n",
       "      <td>w</td>\n",
       "      <td>o</td>\n",
       "      <td>e</td>\n",
       "      <td>n</td>\n",
       "      <td>a</td>\n",
       "      <td>g</td>\n",
       "    </tr>\n",
       "  </tbody>\n",
       "</table>\n",
       "<p>5 rows × 23 columns</p>\n",
       "</div>"
      ],
      "text/plain": [
       "  class cap-shape cap-surface cap-color bruises odor gill-attachment  \\\n",
       "0     p         x           s         n       t    p               f   \n",
       "1     e         x           s         y       t    a               f   \n",
       "2     e         b           s         w       t    l               f   \n",
       "3     p         x           y         w       t    p               f   \n",
       "4     e         x           s         g       f    n               f   \n",
       "\n",
       "  gill-spacing gill-size gill-color  ... stalk-surface-below-ring  \\\n",
       "0            c         n          k  ...                        s   \n",
       "1            c         b          k  ...                        s   \n",
       "2            c         b          n  ...                        s   \n",
       "3            c         n          n  ...                        s   \n",
       "4            w         b          k  ...                        s   \n",
       "\n",
       "  stalk-color-above-ring stalk-color-below-ring veil-type veil-color  \\\n",
       "0                      w                      w         p          w   \n",
       "1                      w                      w         p          w   \n",
       "2                      w                      w         p          w   \n",
       "3                      w                      w         p          w   \n",
       "4                      w                      w         p          w   \n",
       "\n",
       "  ring-number ring-type spore-print-color population habitat  \n",
       "0           o         p                 k          s       u  \n",
       "1           o         p                 n          n       g  \n",
       "2           o         p                 n          n       m  \n",
       "3           o         p                 k          s       u  \n",
       "4           o         e                 n          a       g  \n",
       "\n",
       "[5 rows x 23 columns]"
      ]
     },
     "execution_count": 42,
     "metadata": {},
     "output_type": "execute_result"
    }
   ],
   "source": [
    "new_ms = pd.read_csv(\"new_mushroom.csv\")\n",
    "new_ms.head()"
   ]
  },
  {
   "cell_type": "code",
   "execution_count": 43,
   "metadata": {},
   "outputs": [
    {
     "name": "stdout",
     "output_type": "stream",
     "text": [
      "<class 'pandas.core.frame.DataFrame'>\n",
      "RangeIndex: 1999 entries, 0 to 1998\n",
      "Data columns (total 23 columns):\n",
      " #   Column                    Non-Null Count  Dtype \n",
      "---  ------                    --------------  ----- \n",
      " 0   class                     1999 non-null   object\n",
      " 1   cap-shape                 1999 non-null   object\n",
      " 2   cap-surface               1999 non-null   object\n",
      " 3   cap-color                 1999 non-null   object\n",
      " 4   bruises                   1999 non-null   object\n",
      " 5   odor                      1999 non-null   object\n",
      " 6   gill-attachment           1999 non-null   object\n",
      " 7   gill-spacing              1999 non-null   object\n",
      " 8   gill-size                 1999 non-null   object\n",
      " 9   gill-color                1999 non-null   object\n",
      " 10  stalk-shape               1999 non-null   object\n",
      " 11  stalk-root                1999 non-null   object\n",
      " 12  stalk-surface-above-ring  1999 non-null   object\n",
      " 13  stalk-surface-below-ring  1999 non-null   object\n",
      " 14  stalk-color-above-ring    1999 non-null   object\n",
      " 15  stalk-color-below-ring    1999 non-null   object\n",
      " 16  veil-type                 1999 non-null   object\n",
      " 17  veil-color                1999 non-null   object\n",
      " 18  ring-number               1999 non-null   object\n",
      " 19  ring-type                 1999 non-null   object\n",
      " 20  spore-print-color         1999 non-null   object\n",
      " 21  population                1999 non-null   object\n",
      " 22  habitat                   1999 non-null   object\n",
      "dtypes: object(23)\n",
      "memory usage: 359.3+ KB\n"
     ]
    }
   ],
   "source": [
    "new_ms.info()"
   ]
  },
  {
   "cell_type": "code",
   "execution_count": 44,
   "metadata": {},
   "outputs": [],
   "source": [
    "X_unseen = new_ms.iloc[:,1:23]\n",
    "y_unseen = new_ms.iloc[:,[0]]"
   ]
  },
  {
   "cell_type": "code",
   "execution_count": 45,
   "metadata": {},
   "outputs": [
    {
     "data": {
      "text/html": [
       "<div>\n",
       "<style scoped>\n",
       "    .dataframe tbody tr th:only-of-type {\n",
       "        vertical-align: middle;\n",
       "    }\n",
       "\n",
       "    .dataframe tbody tr th {\n",
       "        vertical-align: top;\n",
       "    }\n",
       "\n",
       "    .dataframe thead th {\n",
       "        text-align: right;\n",
       "    }\n",
       "</style>\n",
       "<table border=\"1\" class=\"dataframe\">\n",
       "  <thead>\n",
       "    <tr style=\"text-align: right;\">\n",
       "      <th></th>\n",
       "      <th>cap-shape</th>\n",
       "      <th>cap-surface</th>\n",
       "      <th>cap-color</th>\n",
       "      <th>bruises</th>\n",
       "      <th>odor</th>\n",
       "      <th>gill-attachment</th>\n",
       "      <th>gill-spacing</th>\n",
       "      <th>gill-size</th>\n",
       "      <th>gill-color</th>\n",
       "      <th>stalk-shape</th>\n",
       "      <th>...</th>\n",
       "      <th>stalk-surface-below-ring</th>\n",
       "      <th>stalk-color-above-ring</th>\n",
       "      <th>stalk-color-below-ring</th>\n",
       "      <th>veil-type</th>\n",
       "      <th>veil-color</th>\n",
       "      <th>ring-number</th>\n",
       "      <th>ring-type</th>\n",
       "      <th>spore-print-color</th>\n",
       "      <th>population</th>\n",
       "      <th>habitat</th>\n",
       "    </tr>\n",
       "  </thead>\n",
       "  <tbody>\n",
       "    <tr>\n",
       "      <th>0</th>\n",
       "      <td>3</td>\n",
       "      <td>1</td>\n",
       "      <td>2</td>\n",
       "      <td>1</td>\n",
       "      <td>4</td>\n",
       "      <td>0</td>\n",
       "      <td>0</td>\n",
       "      <td>1</td>\n",
       "      <td>2</td>\n",
       "      <td>0</td>\n",
       "      <td>...</td>\n",
       "      <td>2</td>\n",
       "      <td>3</td>\n",
       "      <td>3</td>\n",
       "      <td>0</td>\n",
       "      <td>0</td>\n",
       "      <td>0</td>\n",
       "      <td>2</td>\n",
       "      <td>1</td>\n",
       "      <td>2</td>\n",
       "      <td>4</td>\n",
       "    </tr>\n",
       "    <tr>\n",
       "      <th>1</th>\n",
       "      <td>3</td>\n",
       "      <td>1</td>\n",
       "      <td>4</td>\n",
       "      <td>1</td>\n",
       "      <td>0</td>\n",
       "      <td>0</td>\n",
       "      <td>0</td>\n",
       "      <td>0</td>\n",
       "      <td>2</td>\n",
       "      <td>0</td>\n",
       "      <td>...</td>\n",
       "      <td>2</td>\n",
       "      <td>3</td>\n",
       "      <td>3</td>\n",
       "      <td>0</td>\n",
       "      <td>0</td>\n",
       "      <td>0</td>\n",
       "      <td>2</td>\n",
       "      <td>2</td>\n",
       "      <td>1</td>\n",
       "      <td>1</td>\n",
       "    </tr>\n",
       "    <tr>\n",
       "      <th>2</th>\n",
       "      <td>0</td>\n",
       "      <td>1</td>\n",
       "      <td>3</td>\n",
       "      <td>1</td>\n",
       "      <td>2</td>\n",
       "      <td>0</td>\n",
       "      <td>0</td>\n",
       "      <td>0</td>\n",
       "      <td>3</td>\n",
       "      <td>0</td>\n",
       "      <td>...</td>\n",
       "      <td>2</td>\n",
       "      <td>3</td>\n",
       "      <td>3</td>\n",
       "      <td>0</td>\n",
       "      <td>0</td>\n",
       "      <td>0</td>\n",
       "      <td>2</td>\n",
       "      <td>2</td>\n",
       "      <td>1</td>\n",
       "      <td>2</td>\n",
       "    </tr>\n",
       "    <tr>\n",
       "      <th>3</th>\n",
       "      <td>3</td>\n",
       "      <td>2</td>\n",
       "      <td>3</td>\n",
       "      <td>1</td>\n",
       "      <td>4</td>\n",
       "      <td>0</td>\n",
       "      <td>0</td>\n",
       "      <td>1</td>\n",
       "      <td>3</td>\n",
       "      <td>0</td>\n",
       "      <td>...</td>\n",
       "      <td>2</td>\n",
       "      <td>3</td>\n",
       "      <td>3</td>\n",
       "      <td>0</td>\n",
       "      <td>0</td>\n",
       "      <td>0</td>\n",
       "      <td>2</td>\n",
       "      <td>1</td>\n",
       "      <td>2</td>\n",
       "      <td>4</td>\n",
       "    </tr>\n",
       "    <tr>\n",
       "      <th>4</th>\n",
       "      <td>3</td>\n",
       "      <td>1</td>\n",
       "      <td>1</td>\n",
       "      <td>0</td>\n",
       "      <td>3</td>\n",
       "      <td>0</td>\n",
       "      <td>1</td>\n",
       "      <td>0</td>\n",
       "      <td>2</td>\n",
       "      <td>1</td>\n",
       "      <td>...</td>\n",
       "      <td>2</td>\n",
       "      <td>3</td>\n",
       "      <td>3</td>\n",
       "      <td>0</td>\n",
       "      <td>0</td>\n",
       "      <td>0</td>\n",
       "      <td>0</td>\n",
       "      <td>2</td>\n",
       "      <td>0</td>\n",
       "      <td>1</td>\n",
       "    </tr>\n",
       "  </tbody>\n",
       "</table>\n",
       "<p>5 rows × 22 columns</p>\n",
       "</div>"
      ],
      "text/plain": [
       "   cap-shape  cap-surface  cap-color  bruises  odor  gill-attachment  \\\n",
       "0          3            1          2        1     4                0   \n",
       "1          3            1          4        1     0                0   \n",
       "2          0            1          3        1     2                0   \n",
       "3          3            2          3        1     4                0   \n",
       "4          3            1          1        0     3                0   \n",
       "\n",
       "   gill-spacing  gill-size  gill-color  stalk-shape  ...  \\\n",
       "0             0          1           2            0  ...   \n",
       "1             0          0           2            0  ...   \n",
       "2             0          0           3            0  ...   \n",
       "3             0          1           3            0  ...   \n",
       "4             1          0           2            1  ...   \n",
       "\n",
       "   stalk-surface-below-ring  stalk-color-above-ring  stalk-color-below-ring  \\\n",
       "0                         2                       3                       3   \n",
       "1                         2                       3                       3   \n",
       "2                         2                       3                       3   \n",
       "3                         2                       3                       3   \n",
       "4                         2                       3                       3   \n",
       "\n",
       "   veil-type  veil-color  ring-number  ring-type  spore-print-color  \\\n",
       "0          0           0            0          2                  1   \n",
       "1          0           0            0          2                  2   \n",
       "2          0           0            0          2                  2   \n",
       "3          0           0            0          2                  1   \n",
       "4          0           0            0          0                  2   \n",
       "\n",
       "   population  habitat  \n",
       "0           2        4  \n",
       "1           1        1  \n",
       "2           1        2  \n",
       "3           2        4  \n",
       "4           0        1  \n",
       "\n",
       "[5 rows x 22 columns]"
      ]
     },
     "execution_count": 45,
     "metadata": {},
     "output_type": "execute_result"
    }
   ],
   "source": [
    "le = LabelEncoder() \n",
    "for col in X_unseen.columns:\n",
    "    X_unseen[col] = le.fit_transform(X_unseen[col])\n",
    "Encoder_y_unseen=LabelEncoder()\n",
    "y_unseen = Encoder_y_unseen.fit_transform(y_unseen)\n",
    "X_unseen.head()"
   ]
  },
  {
   "cell_type": "code",
   "execution_count": 46,
   "metadata": {},
   "outputs": [
    {
     "name": "stdout",
     "output_type": "stream",
     "text": [
      "(1999, 22)\n",
      "(1999,)\n"
     ]
    }
   ],
   "source": [
    "print(X_unseen.shape)\n",
    "print(y_unseen.shape)"
   ]
  },
  {
   "cell_type": "markdown",
   "metadata": {},
   "source": [
    "## 7.2 Train Test Split"
   ]
  },
  {
   "cell_type": "markdown",
   "metadata": {},
   "source": [
    "In the section of scaling our model into unseen data, we get pretty good K-fold cross validation score."
   ]
  },
  {
   "cell_type": "code",
   "execution_count": 47,
   "metadata": {},
   "outputs": [],
   "source": [
    "X_train1, X_test1, y_train1, y_test1 = train_test_split(X_unseen, y_unseen, test_size=0.2, random_state=40)"
   ]
  },
  {
   "cell_type": "code",
   "execution_count": 48,
   "metadata": {},
   "outputs": [
    {
     "name": "stdout",
     "output_type": "stream",
     "text": [
      "\u001b[96mLogistic Regression\u001b[0m: \u001b[95m0.9994\u001b[0m ± 0.0019\n",
      "\u001b[96mDecision Tree\u001b[0m: \u001b[95m0.9994\u001b[0m ± 0.0019\n",
      "\u001b[96mRandom Forest\u001b[0m: \u001b[95m0.9994\u001b[0m ± 0.0019\n",
      "\u001b[96mGradient Boostin\u001b[0m: \u001b[95m0.9994\u001b[0m ± 0.0019\n",
      "\u001b[96mKNeighbors\u001b[0m: \u001b[95m0.9994\u001b[0m ± 0.0019\n",
      "\u001b[96mSVM\u001b[0m: \u001b[95m0.9994\u001b[0m ± 0.0019\n",
      "\u001b[96mNaive Bayes\u001b[0m: \u001b[95m0.9994\u001b[0m ± 0.0019\n"
     ]
    }
   ],
   "source": [
    "models=[(\"Logistic Regression\", LogisticRegression()),\n",
    "        (\"Decision Tree\", DecisionTreeClassifier()),\n",
    "        (\"Random Forest\", RandomForestClassifier()),\n",
    "        (\"Gradient Boostin\", GradientBoostingClassifier()),\n",
    "        (\"KNeighbors\", KNeighborsClassifier()),\n",
    "        (\"SVM\", SVC()),\n",
    "        (\"Naive Bayes\", GaussianNB())]\n",
    "\n",
    "for name, model in models:\n",
    "    kfold = KFold(n_splits=10)\n",
    "    results_unseen = cross_val_score(model, X_train1, y_train1, cv=kfold, scoring='accuracy')\n",
    "    print(f\"\\x1b[96m{name}\\x1b[0m: \\x1b[95m{results_unseen.mean():.4f}\\x1b[0m ± {results_unseen.std():.4f}\")"
   ]
  },
  {
   "cell_type": "markdown",
   "metadata": {},
   "source": [
    "### 7.3 Test Unseen Data by Using the Best model (Decision Tree Classifier)"
   ]
  },
  {
   "cell_type": "code",
   "execution_count": 49,
   "metadata": {},
   "outputs": [
    {
     "name": "stdout",
     "output_type": "stream",
     "text": [
      "-------------------------------\n",
      "Decision Tree Classifier(Best Model)\n",
      "-------------------------------\n",
      "Test Score: 1.0\n",
      "\n",
      "Confusion Matrix (Accuracy 1.0000)\n",
      "\n",
      "       Prediction\n",
      "Actual   0   1\n",
      "     0 360   0\n",
      "     1   0  40\n",
      "\n",
      "recall Score(y = 0): 1.0\n",
      "recall Score(y = 1): 1.0\n",
      "precision Score(y = 0): 1.0\n",
      "precision Score(y = 1): 1.0\n",
      "\n",
      "Statistics\n",
      "                     Mean Error (ME)  : 0.0\n",
      "       Root Mean Squared Error (RMSE) : 0.0\n",
      "            Mean Absolute Error (MAE) : 0.0\n",
      "\n",
      "Total time: 0.0025999269999985586\n",
      "\n"
     ]
    },
    {
     "data": {
      "image/png": "[encoded data removed]",
      "text/plain": [
       "<Figure size 360x288 with 2 Axes>"
      ]
     },
     "metadata": {
      "needs_background": "light"
     },
     "output_type": "display_data"
    }
   ],
   "source": [
    "print(\"-------------------------------\")\n",
    "print(\"Decision Tree Classifier(Best Model)\")\n",
    "print(\"-------------------------------\")\n",
    "\n",
    "tree_unseen = tree = DecisionTreeClassifier(random_state=42).fit(X_train,y_train).fit(X_train1, y_train1)\n",
    "startTime = perf_counter()\n",
    "a = tree_unseen.score(X_test1,y_test1)\n",
    "print(\"Test Score:\", a)\n",
    "\n",
    "endTime = perf_counter()\n",
    "print()\n",
    "\n",
    "y_pred = cross_val_predict(tree_unseen, X_test1, y_test1, cv=10)\n",
    "classificationSummary(y_test1, y_pred)\n",
    "print()\n",
    "\n",
    "rs = recall_score(y_test1, y_pred,average=None)\n",
    "print(\"recall Score(y = 0):\",rs[0])\n",
    "print(\"recall Score(y = 1):\",rs[1])\n",
    "ps = precision_score(y_test1, y_pred,average=None)\n",
    "print(\"precision Score(y = 0):\",ps[0])\n",
    "print(\"precision Score(y = 1):\",ps[1])\n",
    "\n",
    "b = round(np.mean(y_test1-y_pred),4)\n",
    "c = round(np.sqrt(metrics.mean_squared_error(y_test1, y_pred)),4)\n",
    "d = round(metrics.mean_absolute_error(y_test1, y_pred),4)\n",
    "\n",
    "print()\n",
    "print('Statistics')\n",
    "print('                     Mean Error (ME)  :',b)\n",
    "print('       Root Mean Squared Error (RMSE) :',c)\n",
    "print('            Mean Absolute Error (MAE) :',d)\n",
    "\n",
    "print()\n",
    "time = endTime-startTime\n",
    "print(\"Total time:\",time)\n",
    "print()\n",
    "\n",
    "y_pred_model = tree_unseen.predict(X_test1)\n",
    "cm = confusion_matrix(y_test1, y_pred_model)\n",
    "f, ax = plt.subplots(figsize =(5,4))\n",
    "sns.heatmap(cm,annot = True,cmap=\"Pastel2\",linewidths=0.5,fmt = \".0f\",ax=ax)\n",
    "plt.xlabel(\"y_pred_model\")\n",
    "plt.ylabel(\"y_true_model\")\n",
    "plt.title(\"Decision Tree Classifier(Best Model)\")\n",
    "plt.show()"
   ]
  },
  {
   "cell_type": "markdown",
   "metadata": {},
   "source": [
    "### 7.4 Unseen Data and its Decision Tree Feature Importance"
   ]
  },
  {
   "cell_type": "code",
   "execution_count": 50,
   "metadata": {},
   "outputs": [
    {
     "data": {
      "text/plain": [
       "Text(0.5, 0, 'Decision Tree Feature Importance')"
      ]
     },
     "execution_count": 50,
     "metadata": {},
     "output_type": "execute_result"
    },
    {
     "data": {
      "image/png": "[encoded data removed]",
      "text/plain": [
       "<Figure size 432x288 with 1 Axes>"
      ]
     },
     "metadata": {
      "needs_background": "light"
     },
     "output_type": "display_data"
    }
   ],
   "source": [
    "tree_unseen.feature_importances_\n",
    "sorted_idx = tree_unseen.feature_importances_.argsort()\n",
    "plt.barh(X_unseen.columns.tolist(), tree_unseen.feature_importances_[sorted_idx])\n",
    "plt.xlabel(\"Decision Tree Feature Importance\")"
   ]
  }
 ],
 "metadata": {
  "kernelspec": {
   "display_name": "Python 3",
   "language": "python",
   "name": "python3"
  },
  "language_info": {
   "codemirror_mode": {
    "name": "ipython",
    "version": 3
   },
   "file_extension": ".py",
   "mimetype": "text/x-python",
   "name": "python",
   "nbconvert_exporter": "python",
   "pygments_lexer": "ipython3",
   "version": "3.7.4"
  },
  "latex_envs": {
   "LaTeX_envs_menu_present": true,
   "autoclose": false,
   "autocomplete": true,
   "bibliofile": "biblio.bib",
   "cite_by": "apalike",
   "current_citInitial": 1,
   "eqLabelWithNumbers": true,
   "eqNumInitial": 1,
   "hotkeys": {
    "equation": "Ctrl-E",
    "itemize": "Ctrl-I"
   },
   "labels_anchors": false,
   "latex_user_defs": false,
   "report_style_numbering": false,
   "user_envs_cfg": false
  },
  "toc": {
   "base_numbering": 1,
   "nav_menu": {},
   "number_sections": true,
   "sideBar": true,
   "skip_h1_title": false,
   "title_cell": "Table of Contents",
   "title_sidebar": "Contents",
   "toc_cell": false,
   "toc_position": {},
   "toc_section_display": true,
   "toc_window_display": true
  }
 },
 "nbformat": 4,
 "nbformat_minor": 4
}
